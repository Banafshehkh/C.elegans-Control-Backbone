{
  "nbformat": 4,
  "nbformat_minor": 0,
  "metadata": {
    "colab": {
      "provenance": []
    },
    "kernelspec": {
      "name": "python3",
      "display_name": "Python 3"
    },
    "language_info": {
      "name": "python"
    }
  },
  "cells": [
    {
      "cell_type": "code",
      "execution_count": 98,
      "metadata": {
        "id": "bIo9_5ahEKu6"
      },
      "outputs": [],
      "source": [
        "# Author: Banafsheh Khazali\n",
        "# Date: June 5, 2023"
      ]
    },
    {
      "cell_type": "markdown",
      "source": [
        "Step 3, Systematically destroying the network"
      ],
      "metadata": {
        "id": "XIFFdcl_E4RX"
      }
    },
    {
      "cell_type": "code",
      "source": [
        "import time\n",
        "import os\n",
        "\n",
        "import numpy as np\n",
        "import scipy.io as sio\n",
        "from scipy import integrate, signal, sparse, linalg\n",
        "from threading import Thread\n"
      ],
      "metadata": {
        "id": "0ZTs5qbOFDdj"
      },
      "execution_count": 99,
      "outputs": []
    },
    {
      "cell_type": "code",
      "source": [
        "from google.colab import drive\n",
        "drive.mount(\"/content/drive/\")"
      ],
      "metadata": {
        "colab": {
          "base_uri": "https://localhost:8080/"
        },
        "id": "-ke_wZCDJTyV",
        "outputId": "ba66b6aa-5757-47ef-d8b3-d30d1883cc9e"
      },
      "execution_count": 100,
      "outputs": [
        {
          "output_type": "stream",
          "name": "stdout",
          "text": [
            "Drive already mounted at /content/drive/; to attempt to forcibly remount, call drive.mount(\"/content/drive/\", force_remount=True).\n"
          ]
        }
      ]
    },
    {
      "cell_type": "code",
      "source": [
        "\"\"\" Number of Neurons \"\"\"\n",
        "N = 279\n",
        "\n",
        "\"\"\" Cell membrane conductance (pS) \"\"\"\n",
        "Gc = 0.1\n",
        "\n",
        "\"\"\" Cell Membrane Capacitance \"\"\"\n",
        "C = 0.015\n",
        "\n",
        "\"\"\" Gap Junctions (Electrical, 279*279) \"\"\"\n",
        "ggap = 1.0\n",
        "Gg_Static = np.load('/content/drive/MyDrive/connectome/Gg.npy')\n",
        "\n",
        "\"\"\" Synaptic connections (Chemical, 279*279) \"\"\"\n",
        "gsyn = 1.0\n",
        "Gs_Static = np.load('/content/drive/MyDrive/connectome/Gs.npy')\n",
        "\n",
        "\"\"\" Leakage potential (mV) \"\"\"\n",
        "Ec = -35.0\n",
        "\n",
        "\"\"\" Directionality (279*1) \"\"\"\n",
        "E = np.load('/content/drive/MyDrive/connectome/emask.npy')\n",
        "E = -48.0 * E\n",
        "EMat = np.tile(np.reshape(E, N), (N, 1))\n",
        "\n",
        "\"\"\" Synaptic Activity Parameters \"\"\"\n",
        "ar = 1.0/1.5 # Synaptic activity's rise time\n",
        "ad = 5.0/1.5 # Synaptic activity's decay time\n",
        "B = 0.125 # Width of the sigmoid (mv^-1)\n",
        "\n",
        "\"\"\" Input_Mask/Continuous Transtion \"\"\"\n",
        "transit_Mat = np.zeros((2, N))\n",
        "\n",
        "t_Tracker = 0\n",
        "Iext = 100000\n",
        "\n",
        "rate = 0.025\n",
        "offset = 0.15\n",
        "\n",
        "t_Switch = 0\n",
        "transit_End = 10"
      ],
      "metadata": {
        "id": "ErwfbNDdI8yJ"
      },
      "execution_count": 101,
      "outputs": []
    },
    {
      "cell_type": "code",
      "source": [
        "\"\"\" Connectome Arrays \"\"\"\n",
        "Gg_Dynamic = Gg_Static.copy()\n",
        "Gs_Dynamic = Gs_Static.copy()\n",
        "\n",
        "\"\"\" Data matrix stack size \"\"\"\n",
        "stack_Size = 5\n",
        "init_data_Mat = np.zeros((stack_Size + 50, N))\n",
        "data_Mat = np.zeros((stack_Size, N))\n",
        "\n",
        "# \"\"\" Directory paths for presets \"\"\"\n",
        "# default_Dir = os.getcwd()\n",
        "# preset_Dir = default_Dir + '/presets'\n",
        "# save_Dir = default_Dir + '/saved_dynamics'\n",
        "InMask = np.zeros(N)\n",
        "oldMask = np.zeros(N)\n",
        "newMask = np.zeros(N)\n",
        "\n",
        "#find the location of two \n",
        "indices = [196, 198]\n",
        "value = 3.4\n",
        "newMask[indices] = value\n",
        "print(newMask)\n",
        "\n"
      ],
      "metadata": {
        "colab": {
          "base_uri": "https://localhost:8080/"
        },
        "id": "d9DQuS8hJ9MH",
        "outputId": "a9e3b6c5-0842-41ae-8ea2-900143c8b844"
      },
      "execution_count": 102,
      "outputs": [
        {
          "output_type": "stream",
          "name": "stdout",
          "text": [
            "[0.  0.  0.  0.  0.  0.  0.  0.  0.  0.  0.  0.  0.  0.  0.  0.  0.  0.\n",
            " 0.  0.  0.  0.  0.  0.  0.  0.  0.  0.  0.  0.  0.  0.  0.  0.  0.  0.\n",
            " 0.  0.  0.  0.  0.  0.  0.  0.  0.  0.  0.  0.  0.  0.  0.  0.  0.  0.\n",
            " 0.  0.  0.  0.  0.  0.  0.  0.  0.  0.  0.  0.  0.  0.  0.  0.  0.  0.\n",
            " 0.  0.  0.  0.  0.  0.  0.  0.  0.  0.  0.  0.  0.  0.  0.  0.  0.  0.\n",
            " 0.  0.  0.  0.  0.  0.  0.  0.  0.  0.  0.  0.  0.  0.  0.  0.  0.  0.\n",
            " 0.  0.  0.  0.  0.  0.  0.  0.  0.  0.  0.  0.  0.  0.  0.  0.  0.  0.\n",
            " 0.  0.  0.  0.  0.  0.  0.  0.  0.  0.  0.  0.  0.  0.  0.  0.  0.  0.\n",
            " 0.  0.  0.  0.  0.  0.  0.  0.  0.  0.  0.  0.  0.  0.  0.  0.  0.  0.\n",
            " 0.  0.  0.  0.  0.  0.  0.  0.  0.  0.  0.  0.  0.  0.  0.  0.  0.  0.\n",
            " 0.  0.  0.  0.  0.  0.  0.  0.  0.  0.  0.  0.  0.  0.  0.  0.  3.4 0.\n",
            " 3.4 0.  0.  0.  0.  0.  0.  0.  0.  0.  0.  0.  0.  0.  0.  0.  0.  0.\n",
            " 0.  0.  0.  0.  0.  0.  0.  0.  0.  0.  0.  0.  0.  0.  0.  0.  0.  0.\n",
            " 0.  0.  0.  0.  0.  0.  0.  0.  0.  0.  0.  0.  0.  0.  0.  0.  0.  0.\n",
            " 0.  0.  0.  0.  0.  0.  0.  0.  0.  0.  0.  0.  0.  0.  0.  0.  0.  0.\n",
            " 0.  0.  0.  0.  0.  0.  0.  0.  0. ]\n"
          ]
        }
      ]
    },
    {
      "cell_type": "code",
      "source": [
        "\"\"\" Mask transition \"\"\"\n",
        "def transit_Mask(input_Array):\n",
        "\n",
        "    global t_Switch, oldMask, newMask, transit_End, Vth_Static\n",
        "\n",
        "    transit_Mat[0,:] = transit_Mat[1,:]\n",
        "\n",
        "    t_Switch = t_Tracker\n",
        "\n",
        "    transit_Mat[1,:] = input_Array\n",
        "\n",
        "    oldMask = transit_Mat[0,:]\n",
        "    newMask = transit_Mat[1,:]\n",
        "\n",
        "    Vth_Static = EffVth_rhs(Iext, newMask)\n",
        "    transit_End = t_Switch + 0.3\n",
        "\n",
        "    print(oldMask, newMask, t_Switch, transit_End)"
      ],
      "metadata": {
        "id": "luSahZqWKdT0"
      },
      "execution_count": 103,
      "outputs": []
    },
    {
      "cell_type": "code",
      "source": [
        "def update_Mask(old, new, t, tSwitch):\n",
        "\n",
        "    return np.multiply(old, 0.5-0.5*np.tanh((t-tSwitch)/rate)) + np.multiply(new, 0.5+0.5*np.tanh((t-tSwitch)/rate))"
      ],
      "metadata": {
        "id": "b3GreIYQLQJp"
      },
      "execution_count": 104,
      "outputs": []
    },
    {
      "cell_type": "code",
      "source": [
        "\"\"\" Ablation \"\"\"\n",
        "def modify_Connectome(ablation_Array):\n",
        "\n",
        "    global Vth_Static, Gg_Dynamic, Gs_Dynamic\n",
        "\n",
        "    apply_Col = np.tile(ablation_Array, (N, 1))\n",
        "    apply_Row = np.transpose(apply_Col)\n",
        "\n",
        "    apply_Mat = np.multiply(apply_Col, apply_Row)\n",
        "\n",
        "    Gg_Dynamic = np.multiply(Gg_Static, apply_Mat)\n",
        "    Gs_Dynamic = np.multiply(Gs_Static, apply_Mat)\n",
        "\n",
        "    try:\n",
        "        newMask\n",
        "\n",
        "    except NameError:\n",
        "\n",
        "        EffVth(Gg_Dynamic, Gs_Dynamic)\n",
        "\n",
        "        if np.sum(ablation_Array) != N:\n",
        "\n",
        "            print(\"Neurons \" + str(np.where(ablation_Array == False)[0]) + \" are ablated\")\n",
        "\n",
        "        else:\n",
        "\n",
        "            print(\"All Neurons healthy\")\n",
        "\n",
        "        print(\"EffVth Recalculated\")\n",
        "\n",
        "    else:\n",
        "\n",
        "        EffVth(Gg_Dynamic, Gs_Dynamic)\n",
        "        Vth_Static = EffVth_rhs(Iext, newMask)\n",
        "\n",
        "        if np.sum(ablation_Array) != N:\n",
        "\n",
        "            print(\"Neurons \" + str(np.where(ablation_Array == False)[0]) + \" are ablated\") \n",
        "\n",
        "        else:\n",
        "\n",
        "            print(\"All Neurons healthy\")\n",
        "\n",
        "        print(\"EffVth Recalculated\")\n",
        "        print(\"Vth Recalculated\")\n"
      ],
      "metadata": {
        "id": "bDQc8m2GLS3j"
      },
      "execution_count": 105,
      "outputs": []
    },
    {
      "cell_type": "code",
      "source": [
        "\"\"\" Efficient V-threshold computation \"\"\"\n",
        "def EffVth(Gg, Gs):\n",
        "\n",
        "    Gcmat = np.multiply(Gc, np.eye(N))\n",
        "    EcVec = np.multiply(Ec, np.ones((N, 1)))\n",
        "\n",
        "    M1 = -Gcmat\n",
        "    b1 = np.multiply(Gc, EcVec)\n",
        "\n",
        "    Ggap = np.multiply(ggap, Gg)\n",
        "    Ggapdiag = np.subtract(Ggap, np.diag(np.diag(Ggap)))\n",
        "    Ggapsum = Ggapdiag.sum(axis = 1)\n",
        "    Ggapsummat = sparse.spdiags(Ggapsum, 0, N, N).toarray()\n",
        "    M2 = -np.subtract(Ggapsummat, Ggapdiag)\n",
        "\n",
        "    Gs_ij = np.multiply(gsyn, Gs)\n",
        "    s_eq = round((ar/(ar + 2 * ad)), 4)\n",
        "    sjmat = np.multiply(s_eq, np.ones((N, N)))\n",
        "    S_eq = np.multiply(s_eq, np.ones((N, 1)))\n",
        "    Gsyn = np.multiply(sjmat, Gs_ij)\n",
        "    Gsyndiag = np.subtract(Gsyn, np.diag(np.diag(Gsyn)))\n",
        "    Gsynsum = Gsyndiag.sum(axis = 1)\n",
        "    M3 = -sparse.spdiags(Gsynsum, 0, N, N).toarray()\n",
        "\n",
        "    b3 = np.dot(Gs_ij, np.multiply(s_eq, E))\n",
        "\n",
        "    M = M1 + M2 + M3\n",
        "\n",
        "    global LL, UU, bb\n",
        "\n",
        "    (P, LL, UU) = linalg.lu(M)\n",
        "    bbb = -b1 - b3\n",
        "    bb = np.reshape(bbb, N)\n",
        "\n"
      ],
      "metadata": {
        "id": "uDcAw92SLWkx"
      },
      "execution_count": 106,
      "outputs": []
    },
    {
      "cell_type": "code",
      "source": [
        "def EffVth_rhs(Iext, InMask):\n",
        "\n",
        "    InputMask = np.multiply(Iext, InMask)\n",
        "    b = np.subtract(bb, InputMask)\n",
        "\n",
        "    Vth = linalg.solve_triangular(UU, linalg.solve_triangular(LL, b, lower = True, check_finite=False), check_finite=False)\n",
        "\n",
        "    return Vth\n"
      ],
      "metadata": {
        "id": "FxkxxQHJLa3v"
      },
      "execution_count": 107,
      "outputs": []
    },
    {
      "cell_type": "code",
      "source": [
        "def voltage_filter(v_vec, vmax, scaler):\n",
        "    \n",
        "    filtered = vmax * np.tanh(scaler * np.divide(v_vec, vmax))\n",
        "    \n",
        "    return filtered"
      ],
      "metadata": {
        "id": "By5Yo7zjLeDx"
      },
      "execution_count": 108,
      "outputs": []
    },
    {
      "cell_type": "code",
      "source": [
        "\"\"\" Right hand side \"\"\"\n",
        "def membrane_voltageRHS(t, y):\n",
        "    global InMask, Vth, t_switch, transit_End\n",
        "\n",
        "    \"\"\" Split the incoming values \"\"\"\n",
        "    Vvec, SVec = np.split(y, 2)\n",
        "\n",
        "    \"\"\" Gc(Vi - Ec) \"\"\"\n",
        "    VsubEc = np.multiply(Gc, (Vvec - Ec))\n",
        "\n",
        "    \"\"\" Gg(Vi - Vj) Computation \"\"\"\n",
        "    Vrep = np.tile(Vvec, (N, 1))\n",
        "    GapCon = np.multiply(Gg_Dynamic, np.subtract(np.transpose(Vrep), Vrep)).sum(axis = 1)\n",
        "\n",
        "    \"\"\" Gs*S*(Vi - Ej) Computation \"\"\"\n",
        "    VsubEj = np.subtract(np.transpose(Vrep), EMat)\n",
        "    SynapCon = np.multiply(np.multiply(Gs_Dynamic, np.tile(SVec, (N, 1))), VsubEj).sum(axis = 1)\n",
        "\n",
        "    global InMask, Vth\n",
        "\n",
        "    if t >= t_Switch and t <= transit_End:\n",
        "\n",
        "        InMask = update_Mask(oldMask, newMask, t, t_Switch + offset)\n",
        "        Vth = EffVth_rhs(Iext, InMask)\n",
        "\n",
        "    else:\n",
        "\n",
        "        InMask = newMask\n",
        "        Vth = Vth_Static\n",
        "\n",
        "    \"\"\" ar*(1-Si)*Sigmoid Computation \"\"\"\n",
        "    SynRise = np.multiply(np.multiply(ar, (np.subtract(1.0, SVec))),\n",
        "                          np.reciprocal(1.0 + np.exp(-B*(np.subtract(Vvec, Vth)))))\n",
        "\n",
        "    SynDrop = np.multiply(ad, SVec)\n",
        "\n",
        "    \"\"\" Input Mask \"\"\"\n",
        "    Input = np.multiply(Iext, InMask)\n",
        "\n",
        "    \"\"\" dV and dS and merge them back to dydt \"\"\"\n",
        "    dV = (-(VsubEc + GapCon + SynapCon) + Input)/C\n",
        "    dS = np.subtract(SynRise, SynDrop)\n",
        "\n",
        "    return np.concatenate((dV, dS))\n"
      ],
      "metadata": {
        "id": "wAFG7DZ8LgjS"
      },
      "execution_count": 109,
      "outputs": []
    },
    {
      "cell_type": "code",
      "source": [
        "def compute_jacobian(t, y):\n",
        "\n",
        "    Vvec, SVec = np.split(y, 2)\n",
        "    Vrep = np.tile(Vvec, (N, 1))\n",
        "\n",
        "    J1_M1 = -np.multiply(Gc, np.eye(N))\n",
        "    Ggap = np.multiply(ggap, Gg_Dynamic)\n",
        "    Ggapsumdiag = -np.diag(Ggap.sum(axis = 1))\n",
        "    J1_M2 = np.add(Ggap, Ggapsumdiag) \n",
        "    Gsyn = np.multiply(gsyn, Gs_Dynamic)\n",
        "    J1_M3 = np.diag(np.dot(-Gsyn, SVec))\n",
        "\n",
        "    J1 = (J1_M1 + J1_M2 + J1_M3) / C\n",
        "\n",
        "    J2_M4_2 = np.subtract(EMat, np.transpose(Vrep))\n",
        "    J2 = np.multiply(Gsyn, J2_M4_2) / C\n",
        "\n",
        "    global InMask, Vth\n",
        "\n",
        "    if t >= t_Switch and t <= transit_End:\n",
        "\n",
        "        InMask = update_Mask(oldMask, newMask, t, t_Switch + offset)\n",
        "        Vth = EffVth_rhs(Iext, InMask)\n",
        "\n",
        "    else:\n",
        "\n",
        "        InMask = newMask\n",
        "        Vth = Vth_Static\n",
        "\n",
        "    sigmoid_V = np.reciprocal(1.0 + np.exp(-B*(np.subtract(Vvec, Vth))))\n",
        "    J3_1 = np.multiply(ar, 1 - SVec)\n",
        "    J3_2 = np.multiply(B, sigmoid_V)\n",
        "    J3_3 = 1 - sigmoid_V\n",
        "    J3 = np.diag(np.multiply(np.multiply(J3_1, J3_2), J3_3))\n",
        "\n",
        "    J4 = np.diag(np.subtract(np.multiply(-ar, sigmoid_V), ad))\n",
        "\n",
        "    J_row1 = np.hstack((J1, J2))\n",
        "    J_row2 = np.hstack((J3, J4))\n",
        "    J = np.vstack((J_row1, J_row2))\n",
        "\n",
        "    return J\n",
        "\n"
      ],
      "metadata": {
        "id": "dr4h4PqRLkdH"
      },
      "execution_count": 110,
      "outputs": []
    },
    {
      "cell_type": "code",
      "source": [
        "\"\"\" Simulation initiator \"\"\"\n",
        "def run_Network(t_Delta, atol):\n",
        "    dt = t_Delta\n",
        "    InitCond = 10**(-4)*np.random.normal(0, 0.94, 2*N)\n",
        "\n",
        "    \"\"\" Configuring the ODE Solver \"\"\"\n",
        "    r = integrate.ode(membrane_voltageRHS, compute_jacobian).set_integrator('vode', atol=atol, min_step=dt*1e-6, method='bdf')\n",
        "    r.set_initial_value(InitCond, 0)\n",
        "\n",
        "    init_data_Mat[0, :] = InitCond[:N]\n",
        "\n",
        "    session_Data = []\n",
        "    oldMask = newMask = np.zeros(N)\n",
        "    t_Switch = 0\n",
        "    transit_End = 0.3\n",
        "    k = 1\n",
        "\n",
        "    while r.successful() and k < stack_Size + 50:\n",
        "        r.integrate(r.t + dt)\n",
        "        data = np.subtract(r.y[:N], Vth)\n",
        "        init_data_Mat[k, :] = voltage_filter(data, 500, 1)\n",
        "        t_Tracker = r.t\n",
        "        k += 1\n",
        "\n",
        "    emit('new data', init_data_Mat[50:, :].tolist())\n",
        "    session_Data.append(np.asarray(init_data_Mat[50:, :].tolist()))\n",
        "\n",
        "EffVth(Gg_Static, Gs_Static)\n"
      ],
      "metadata": {
        "id": "_2RVV0eMLp_h"
      },
      "execution_count": 111,
      "outputs": []
    },
    {
      "cell_type": "code",
      "source": [
        "# Set the parameters for the simulation\n",
        "t_Delta = 0.1\n",
        "atol = 1e-6\n",
        "\n",
        "# Call the run_Network function to run the simulation\n",
        "run_Network(t_Delta, atol)\n"
      ],
      "metadata": {
        "colab": {
          "base_uri": "https://localhost:8080/",
          "height": 509
        },
        "id": "L3Sa6ixxPXX_",
        "outputId": "d79edf3f-65b7-49ad-8f06-17b751ec1334"
      },
      "execution_count": 112,
      "outputs": [
        {
          "output_type": "stream",
          "name": "stderr",
          "text": [
            "<ipython-input-109-dad67b4ae370>:33: RuntimeWarning: overflow encountered in exp\n",
            "  np.reciprocal(1.0 + np.exp(-B*(np.subtract(Vvec, Vth)))))\n",
            "<ipython-input-110-8252ccebd73a>:30: RuntimeWarning: overflow encountered in exp\n",
            "  sigmoid_V = np.reciprocal(1.0 + np.exp(-B*(np.subtract(Vvec, Vth))))\n"
          ]
        },
        {
          "output_type": "error",
          "ename": "RuntimeError",
          "evalue": "ignored",
          "traceback": [
            "\u001b[0;31m---------------------------------------------------------------------------\u001b[0m",
            "\u001b[0;31mRuntimeError\u001b[0m                              Traceback (most recent call last)",
            "\u001b[0;32m<ipython-input-112-21e944bd89c7>\u001b[0m in \u001b[0;36m<cell line: 6>\u001b[0;34m()\u001b[0m\n\u001b[1;32m      4\u001b[0m \u001b[0;34m\u001b[0m\u001b[0m\n\u001b[1;32m      5\u001b[0m \u001b[0;31m# Call the run_Network function to run the simulation\u001b[0m\u001b[0;34m\u001b[0m\u001b[0;34m\u001b[0m\u001b[0m\n\u001b[0;32m----> 6\u001b[0;31m \u001b[0mrun_Network\u001b[0m\u001b[0;34m(\u001b[0m\u001b[0mt_Delta\u001b[0m\u001b[0;34m,\u001b[0m \u001b[0matol\u001b[0m\u001b[0;34m)\u001b[0m\u001b[0;34m\u001b[0m\u001b[0;34m\u001b[0m\u001b[0m\n\u001b[0m",
            "\u001b[0;32m<ipython-input-111-cc2b3ef3d4ca>\u001b[0m in \u001b[0;36mrun_Network\u001b[0;34m(t_Delta, atol)\u001b[0m\n\u001b[1;32m     23\u001b[0m         \u001b[0mk\u001b[0m \u001b[0;34m+=\u001b[0m \u001b[0;36m1\u001b[0m\u001b[0;34m\u001b[0m\u001b[0;34m\u001b[0m\u001b[0m\n\u001b[1;32m     24\u001b[0m \u001b[0;34m\u001b[0m\u001b[0m\n\u001b[0;32m---> 25\u001b[0;31m     \u001b[0memit\u001b[0m\u001b[0;34m(\u001b[0m\u001b[0;34m'new data'\u001b[0m\u001b[0;34m,\u001b[0m \u001b[0minit_data_Mat\u001b[0m\u001b[0;34m[\u001b[0m\u001b[0;36m50\u001b[0m\u001b[0;34m:\u001b[0m\u001b[0;34m,\u001b[0m \u001b[0;34m:\u001b[0m\u001b[0;34m]\u001b[0m\u001b[0;34m.\u001b[0m\u001b[0mtolist\u001b[0m\u001b[0;34m(\u001b[0m\u001b[0;34m)\u001b[0m\u001b[0;34m)\u001b[0m\u001b[0;34m\u001b[0m\u001b[0;34m\u001b[0m\u001b[0m\n\u001b[0m\u001b[1;32m     26\u001b[0m     \u001b[0msession_Data\u001b[0m\u001b[0;34m.\u001b[0m\u001b[0mappend\u001b[0m\u001b[0;34m(\u001b[0m\u001b[0mnp\u001b[0m\u001b[0;34m.\u001b[0m\u001b[0masarray\u001b[0m\u001b[0;34m(\u001b[0m\u001b[0minit_data_Mat\u001b[0m\u001b[0;34m[\u001b[0m\u001b[0;36m50\u001b[0m\u001b[0;34m:\u001b[0m\u001b[0;34m,\u001b[0m \u001b[0;34m:\u001b[0m\u001b[0;34m]\u001b[0m\u001b[0;34m.\u001b[0m\u001b[0mtolist\u001b[0m\u001b[0;34m(\u001b[0m\u001b[0;34m)\u001b[0m\u001b[0;34m)\u001b[0m\u001b[0;34m)\u001b[0m\u001b[0;34m\u001b[0m\u001b[0;34m\u001b[0m\u001b[0m\n\u001b[1;32m     27\u001b[0m \u001b[0;34m\u001b[0m\u001b[0m\n",
            "\u001b[0;32m/usr/local/lib/python3.10/dist-packages/flask_socketio/__init__.py\u001b[0m in \u001b[0;36memit\u001b[0;34m(event, *args, **kwargs)\u001b[0m\n\u001b[1;32m    890\u001b[0m         \u001b[0mnamespace\u001b[0m \u001b[0;34m=\u001b[0m \u001b[0mkwargs\u001b[0m\u001b[0;34m[\u001b[0m\u001b[0;34m'namespace'\u001b[0m\u001b[0;34m]\u001b[0m\u001b[0;34m\u001b[0m\u001b[0;34m\u001b[0m\u001b[0m\n\u001b[1;32m    891\u001b[0m     \u001b[0;32melse\u001b[0m\u001b[0;34m:\u001b[0m\u001b[0;34m\u001b[0m\u001b[0;34m\u001b[0m\u001b[0m\n\u001b[0;32m--> 892\u001b[0;31m         \u001b[0mnamespace\u001b[0m \u001b[0;34m=\u001b[0m \u001b[0mflask\u001b[0m\u001b[0;34m.\u001b[0m\u001b[0mrequest\u001b[0m\u001b[0;34m.\u001b[0m\u001b[0mnamespace\u001b[0m\u001b[0;34m\u001b[0m\u001b[0;34m\u001b[0m\u001b[0m\n\u001b[0m\u001b[1;32m    893\u001b[0m     \u001b[0mcallback\u001b[0m \u001b[0;34m=\u001b[0m \u001b[0mkwargs\u001b[0m\u001b[0;34m.\u001b[0m\u001b[0mget\u001b[0m\u001b[0;34m(\u001b[0m\u001b[0;34m'callback'\u001b[0m\u001b[0;34m)\u001b[0m\u001b[0;34m\u001b[0m\u001b[0;34m\u001b[0m\u001b[0m\n\u001b[1;32m    894\u001b[0m     \u001b[0mbroadcast\u001b[0m \u001b[0;34m=\u001b[0m \u001b[0mkwargs\u001b[0m\u001b[0;34m.\u001b[0m\u001b[0mget\u001b[0m\u001b[0;34m(\u001b[0m\u001b[0;34m'broadcast'\u001b[0m\u001b[0;34m)\u001b[0m\u001b[0;34m\u001b[0m\u001b[0;34m\u001b[0m\u001b[0m\n",
            "\u001b[0;32m/usr/local/lib/python3.10/dist-packages/werkzeug/local.py\u001b[0m in \u001b[0;36m__get__\u001b[0;34m(self, instance, owner)\u001b[0m\n\u001b[1;32m    309\u001b[0m \u001b[0;34m\u001b[0m\u001b[0m\n\u001b[1;32m    310\u001b[0m         \u001b[0;32mtry\u001b[0m\u001b[0;34m:\u001b[0m\u001b[0;34m\u001b[0m\u001b[0;34m\u001b[0m\u001b[0m\n\u001b[0;32m--> 311\u001b[0;31m             \u001b[0mobj\u001b[0m \u001b[0;34m=\u001b[0m \u001b[0minstance\u001b[0m\u001b[0;34m.\u001b[0m\u001b[0m_get_current_object\u001b[0m\u001b[0;34m(\u001b[0m\u001b[0;34m)\u001b[0m\u001b[0;34m\u001b[0m\u001b[0;34m\u001b[0m\u001b[0m\n\u001b[0m\u001b[1;32m    312\u001b[0m         \u001b[0;32mexcept\u001b[0m \u001b[0mRuntimeError\u001b[0m\u001b[0;34m:\u001b[0m\u001b[0;34m\u001b[0m\u001b[0;34m\u001b[0m\u001b[0m\n\u001b[1;32m    313\u001b[0m             \u001b[0;32mif\u001b[0m \u001b[0mself\u001b[0m\u001b[0;34m.\u001b[0m\u001b[0mfallback\u001b[0m \u001b[0;32mis\u001b[0m \u001b[0;32mNone\u001b[0m\u001b[0;34m:\u001b[0m\u001b[0;34m\u001b[0m\u001b[0;34m\u001b[0m\u001b[0m\n",
            "\u001b[0;32m/usr/local/lib/python3.10/dist-packages/werkzeug/local.py\u001b[0m in \u001b[0;36m_get_current_object\u001b[0;34m()\u001b[0m\n\u001b[1;32m    506\u001b[0m                     \u001b[0mobj\u001b[0m \u001b[0;34m=\u001b[0m \u001b[0mlocal\u001b[0m\u001b[0;34m.\u001b[0m\u001b[0mget\u001b[0m\u001b[0;34m(\u001b[0m\u001b[0;34m)\u001b[0m  \u001b[0;31m# type: ignore[union-attr]\u001b[0m\u001b[0;34m\u001b[0m\u001b[0;34m\u001b[0m\u001b[0m\n\u001b[1;32m    507\u001b[0m                 \u001b[0;32mexcept\u001b[0m \u001b[0mLookupError\u001b[0m\u001b[0;34m:\u001b[0m\u001b[0;34m\u001b[0m\u001b[0;34m\u001b[0m\u001b[0m\n\u001b[0;32m--> 508\u001b[0;31m                     \u001b[0;32mraise\u001b[0m \u001b[0mRuntimeError\u001b[0m\u001b[0;34m(\u001b[0m\u001b[0munbound_message\u001b[0m\u001b[0;34m)\u001b[0m \u001b[0;32mfrom\u001b[0m \u001b[0;32mNone\u001b[0m\u001b[0;34m\u001b[0m\u001b[0;34m\u001b[0m\u001b[0m\n\u001b[0m\u001b[1;32m    509\u001b[0m \u001b[0;34m\u001b[0m\u001b[0m\n\u001b[1;32m    510\u001b[0m                 \u001b[0;32mreturn\u001b[0m \u001b[0mget_name\u001b[0m\u001b[0;34m(\u001b[0m\u001b[0mobj\u001b[0m\u001b[0;34m)\u001b[0m\u001b[0;34m\u001b[0m\u001b[0;34m\u001b[0m\u001b[0m\n",
            "\u001b[0;31mRuntimeError\u001b[0m: Working outside of request context.\n\nThis typically means that you attempted to use functionality that needed\nan active HTTP request. Consult the documentation on testing for\ninformation about how to avoid this problem."
          ]
        }
      ]
    },
    {
      "cell_type": "code",
      "source": [],
      "metadata": {
        "id": "smGMghBbRPNh"
      },
      "execution_count": null,
      "outputs": []
    }
  ]
}