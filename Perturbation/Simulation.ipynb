{
  "nbformat": 4,
  "nbformat_minor": 0,
  "metadata": {
    "colab": {
      "provenance": []
    },
    "kernelspec": {
      "name": "python3",
      "display_name": "Python 3"
    },
    "language_info": {
      "name": "python"
    }
  },
  "cells": [
    {
      "cell_type": "code",
      "execution_count": 1,
      "metadata": {
        "id": "bIo9_5ahEKu6"
      },
      "outputs": [],
      "source": [
        "# Author: Banafsheh Khazali\n",
        "# Date: June 5, 2023"
      ]
    },
    {
      "cell_type": "markdown",
      "source": [
        "Step 3, Systematically destroying the network"
      ],
      "metadata": {
        "id": "XIFFdcl_E4RX"
      }
    },
    {
      "cell_type": "code",
      "source": [],
      "metadata": {
        "id": "0ZTs5qbOFDdj"
      },
      "execution_count": null,
      "outputs": []
    }
  ]
}