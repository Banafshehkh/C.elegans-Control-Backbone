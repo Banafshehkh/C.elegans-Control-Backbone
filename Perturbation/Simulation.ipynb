{
  "nbformat": 4,
  "nbformat_minor": 0,
  "metadata": {
    "colab": {
      "provenance": []
    },
    "kernelspec": {
      "name": "python3",
      "display_name": "Python 3"
    },
    "language_info": {
      "name": "python"
    }
  },
  "cells": [
    {
      "cell_type": "code",
      "execution_count": 1,
      "metadata": {
        "id": "bIo9_5ahEKu6"
      },
      "outputs": [],
      "source": [
        "# Author: Banafsheh Khazali\n",
        "# Date: June 5, 2023"
      ]
    },
    {
      "cell_type": "markdown",
      "source": [
        "Step 3, Systematically destroying the network"
      ],
      "metadata": {
        "id": "XIFFdcl_E4RX"
      }
    },
    {
      "cell_type": "code",
      "source": [
        "!pip install flask-socketio\n"
      ],
      "metadata": {
        "colab": {
          "base_uri": "https://localhost:8080/"
        },
        "id": "mJjq9Xe0OpNG",
        "outputId": "6611bcf9-c519-40b7-ab79-b7e3ac056a57"
      },
      "execution_count": 16,
      "outputs": [
        {
          "output_type": "stream",
          "name": "stdout",
          "text": [
            "Looking in indexes: https://pypi.org/simple, https://us-python.pkg.dev/colab-wheels/public/simple/\n",
            "Collecting flask-socketio\n",
            "  Downloading Flask_SocketIO-5.3.4-py3-none-any.whl (17 kB)\n",
            "Requirement already satisfied: Flask>=0.9 in /usr/local/lib/python3.10/dist-packages (from flask-socketio) (2.2.4)\n",
            "Collecting python-socketio>=5.0.2 (from flask-socketio)\n",
            "  Downloading python_socketio-5.8.0-py3-none-any.whl (56 kB)\n",
            "\u001b[2K     \u001b[90m━━━━━━━━━━━━━━━━━━━━━━━━━━━━━━━━━━━━━━━━\u001b[0m \u001b[32m57.0/57.0 kB\u001b[0m \u001b[31m6.1 MB/s\u001b[0m eta \u001b[36m0:00:00\u001b[0m\n",
            "\u001b[?25hRequirement already satisfied: Werkzeug>=2.2.2 in /usr/local/lib/python3.10/dist-packages (from Flask>=0.9->flask-socketio) (2.3.0)\n",
            "Requirement already satisfied: Jinja2>=3.0 in /usr/local/lib/python3.10/dist-packages (from Flask>=0.9->flask-socketio) (3.1.2)\n",
            "Requirement already satisfied: itsdangerous>=2.0 in /usr/local/lib/python3.10/dist-packages (from Flask>=0.9->flask-socketio) (2.1.2)\n",
            "Requirement already satisfied: click>=8.0 in /usr/local/lib/python3.10/dist-packages (from Flask>=0.9->flask-socketio) (8.1.3)\n",
            "Collecting bidict>=0.21.0 (from python-socketio>=5.0.2->flask-socketio)\n",
            "  Downloading bidict-0.22.1-py3-none-any.whl (35 kB)\n",
            "Collecting python-engineio>=4.3.0 (from python-socketio>=5.0.2->flask-socketio)\n",
            "  Downloading python_engineio-4.4.1-py3-none-any.whl (53 kB)\n",
            "\u001b[2K     \u001b[90m━━━━━━━━━━━━━━━━━━━━━━━━━━━━━━━━━━━━━━━━\u001b[0m \u001b[32m53.4/53.4 kB\u001b[0m \u001b[31m7.3 MB/s\u001b[0m eta \u001b[36m0:00:00\u001b[0m\n",
            "\u001b[?25hRequirement already satisfied: MarkupSafe>=2.0 in /usr/local/lib/python3.10/dist-packages (from Jinja2>=3.0->Flask>=0.9->flask-socketio) (2.1.2)\n",
            "Installing collected packages: python-engineio, bidict, python-socketio, flask-socketio\n",
            "Successfully installed bidict-0.22.1 flask-socketio-5.3.4 python-engineio-4.4.1 python-socketio-5.8.0\n"
          ]
        }
      ]
    },
    {
      "cell_type": "code",
      "source": [
        "import time\n",
        "import os\n",
        "\n",
        "import numpy as np\n",
        "import scipy.io as sio\n",
        "from scipy import integrate, signal, sparse, linalg\n",
        "from threading import Thread\n",
        "\n",
        "from flask import Flask, render_template\n",
        "from flask_socketio import SocketIO, emit"
      ],
      "metadata": {
        "id": "0ZTs5qbOFDdj"
      },
      "execution_count": 17,
      "outputs": []
    },
    {
      "cell_type": "code",
      "source": [
        "from google.colab import drive\n",
        "drive.mount(\"/content/drive/\")"
      ],
      "metadata": {
        "colab": {
          "base_uri": "https://localhost:8080/"
        },
        "id": "-ke_wZCDJTyV",
        "outputId": "463d2b39-66a8-40d1-d118-d6a70509b7b0"
      },
      "execution_count": 3,
      "outputs": [
        {
          "output_type": "stream",
          "name": "stdout",
          "text": [
            "Mounted at /content/drive/\n"
          ]
        }
      ]
    },
    {
      "cell_type": "code",
      "source": [
        "\"\"\" Number of Neurons \"\"\"\n",
        "N = 279\n",
        "\n",
        "\"\"\" Cell membrane conductance (pS) \"\"\"\n",
        "Gc = 0.1\n",
        "\n",
        "\"\"\" Cell Membrane Capacitance \"\"\"\n",
        "C = 0.015\n",
        "\n",
        "\"\"\" Gap Junctions (Electrical, 279*279) \"\"\"\n",
        "ggap = 1.0\n",
        "Gg_Static = np.load('/content/drive/MyDrive/connectome/Gg.npy')\n",
        "\n",
        "\"\"\" Synaptic connections (Chemical, 279*279) \"\"\"\n",
        "gsyn = 1.0\n",
        "Gs_Static = np.load('/content/drive/MyDrive/connectome/Gs.npy')\n",
        "\n",
        "\"\"\" Leakage potential (mV) \"\"\"\n",
        "Ec = -35.0\n",
        "\n",
        "\"\"\" Directionality (279*1) \"\"\"\n",
        "E = np.load('/content/drive/MyDrive/connectome/emask.npy')\n",
        "E = -48.0 * E\n",
        "EMat = np.tile(np.reshape(E, N), (N, 1))\n",
        "\n",
        "\"\"\" Synaptic Activity Parameters \"\"\"\n",
        "ar = 1.0/1.5 # Synaptic activity's rise time\n",
        "ad = 5.0/1.5 # Synaptic activity's decay time\n",
        "B = 0.125 # Width of the sigmoid (mv^-1)\n",
        "\n",
        "\"\"\" Input_Mask/Continuous Transtion \"\"\"\n",
        "transit_Mat = np.zeros((2, N))\n",
        "\n",
        "t_Tracker = 0\n",
        "Iext = 100000\n",
        "\n",
        "rate = 0.025\n",
        "offset = 0.15"
      ],
      "metadata": {
        "id": "ErwfbNDdI8yJ"
      },
      "execution_count": 4,
      "outputs": []
    },
    {
      "cell_type": "code",
      "source": [
        "\"\"\" Connectome Arrays \"\"\"\n",
        "Gg_Dynamic = Gg_Static.copy()\n",
        "Gs_Dynamic = Gs_Static.copy()\n",
        "\n",
        "\"\"\" Data matrix stack size \"\"\"\n",
        "stack_Size = 5\n",
        "init_data_Mat = np.zeros((stack_Size + 50, N))\n",
        "data_Mat = np.zeros((stack_Size, N))\n",
        "\n",
        "# \"\"\" Directory paths for presets \"\"\"\n",
        "# default_Dir = os.getcwd()\n",
        "# preset_Dir = default_Dir + '/presets'\n",
        "# save_Dir = default_Dir + '/saved_dynamics'"
      ],
      "metadata": {
        "id": "d9DQuS8hJ9MH"
      },
      "execution_count": 5,
      "outputs": []
    },
    {
      "cell_type": "code",
      "source": [
        "\"\"\" Mask transition \"\"\"\n",
        "def transit_Mask(input_Array):\n",
        "\n",
        "    global t_Switch, oldMask, newMask, transit_End, Vth_Static\n",
        "\n",
        "    transit_Mat[0,:] = transit_Mat[1,:]\n",
        "\n",
        "    t_Switch = t_Tracker\n",
        "\n",
        "    transit_Mat[1,:] = input_Array\n",
        "\n",
        "    oldMask = transit_Mat[0,:]\n",
        "    newMask = transit_Mat[1,:]\n",
        "\n",
        "    Vth_Static = EffVth_rhs(Iext, newMask)\n",
        "    transit_End = t_Switch + 0.3\n",
        "\n",
        "    print(oldMask, newMask, t_Switch, transit_End)"
      ],
      "metadata": {
        "id": "luSahZqWKdT0"
      },
      "execution_count": 6,
      "outputs": []
    },
    {
      "cell_type": "code",
      "source": [
        "def update_Mask(old, new, t, tSwitch):\n",
        "\n",
        "    return np.multiply(old, 0.5-0.5*np.tanh((t-tSwitch)/rate)) + np.multiply(new, 0.5+0.5*np.tanh((t-tSwitch)/rate))"
      ],
      "metadata": {
        "id": "b3GreIYQLQJp"
      },
      "execution_count": 7,
      "outputs": []
    },
    {
      "cell_type": "code",
      "source": [
        "\"\"\" Ablation \"\"\"\n",
        "def modify_Connectome(ablation_Array):\n",
        "\n",
        "    global Vth_Static, Gg_Dynamic, Gs_Dynamic\n",
        "\n",
        "    apply_Col = np.tile(ablation_Array, (N, 1))\n",
        "    apply_Row = np.transpose(apply_Col)\n",
        "\n",
        "    apply_Mat = np.multiply(apply_Col, apply_Row)\n",
        "\n",
        "    Gg_Dynamic = np.multiply(Gg_Static, apply_Mat)\n",
        "    Gs_Dynamic = np.multiply(Gs_Static, apply_Mat)\n",
        "\n",
        "    try:\n",
        "        newMask\n",
        "\n",
        "    except NameError:\n",
        "\n",
        "        EffVth(Gg_Dynamic, Gs_Dynamic)\n",
        "\n",
        "        if np.sum(ablation_Array) != N:\n",
        "\n",
        "            print(\"Neurons \" + str(np.where(ablation_Array == False)[0]) + \" are ablated\")\n",
        "\n",
        "        else:\n",
        "\n",
        "            print(\"All Neurons healthy\")\n",
        "\n",
        "        print(\"EffVth Recalculated\")\n",
        "\n",
        "    else:\n",
        "\n",
        "        EffVth(Gg_Dynamic, Gs_Dynamic)\n",
        "        Vth_Static = EffVth_rhs(Iext, newMask)\n",
        "\n",
        "        if np.sum(ablation_Array) != N:\n",
        "\n",
        "            print(\"Neurons \" + str(np.where(ablation_Array == False)[0]) + \" are ablated\") \n",
        "\n",
        "        else:\n",
        "\n",
        "            print(\"All Neurons healthy\")\n",
        "\n",
        "        print(\"EffVth Recalculated\")\n",
        "        print(\"Vth Recalculated\")\n"
      ],
      "metadata": {
        "id": "bDQc8m2GLS3j"
      },
      "execution_count": 8,
      "outputs": []
    },
    {
      "cell_type": "code",
      "source": [
        "\"\"\" Efficient V-threshold computation \"\"\"\n",
        "def EffVth(Gg, Gs):\n",
        "\n",
        "    Gcmat = np.multiply(Gc, np.eye(N))\n",
        "    EcVec = np.multiply(Ec, np.ones((N, 1)))\n",
        "\n",
        "    M1 = -Gcmat\n",
        "    b1 = np.multiply(Gc, EcVec)\n",
        "\n",
        "    Ggap = np.multiply(ggap, Gg)\n",
        "    Ggapdiag = np.subtract(Ggap, np.diag(np.diag(Ggap)))\n",
        "    Ggapsum = Ggapdiag.sum(axis = 1)\n",
        "    Ggapsummat = sparse.spdiags(Ggapsum, 0, N, N).toarray()\n",
        "    M2 = -np.subtract(Ggapsummat, Ggapdiag)\n",
        "\n",
        "    Gs_ij = np.multiply(gsyn, Gs)\n",
        "    s_eq = round((ar/(ar + 2 * ad)), 4)\n",
        "    sjmat = np.multiply(s_eq, np.ones((N, N)))\n",
        "    S_eq = np.multiply(s_eq, np.ones((N, 1)))\n",
        "    Gsyn = np.multiply(sjmat, Gs_ij)\n",
        "    Gsyndiag = np.subtract(Gsyn, np.diag(np.diag(Gsyn)))\n",
        "    Gsynsum = Gsyndiag.sum(axis = 1)\n",
        "    M3 = -sparse.spdiags(Gsynsum, 0, N, N).toarray()\n",
        "\n",
        "    b3 = np.dot(Gs_ij, np.multiply(s_eq, E))\n",
        "\n",
        "    M = M1 + M2 + M3\n",
        "\n",
        "    global LL, UU, bb\n",
        "\n",
        "    (P, LL, UU) = linalg.lu(M)\n",
        "    bbb = -b1 - b3\n",
        "    bb = np.reshape(bbb, N)\n",
        "\n"
      ],
      "metadata": {
        "id": "uDcAw92SLWkx"
      },
      "execution_count": 9,
      "outputs": []
    },
    {
      "cell_type": "code",
      "source": [
        "def EffVth_rhs(Iext, InMask):\n",
        "\n",
        "    InputMask = np.multiply(Iext, InMask)\n",
        "    b = np.subtract(bb, InputMask)\n",
        "\n",
        "    Vth = linalg.solve_triangular(UU, linalg.solve_triangular(LL, b, lower = True, check_finite=False), check_finite=False)\n",
        "\n",
        "    return Vth\n"
      ],
      "metadata": {
        "id": "FxkxxQHJLa3v"
      },
      "execution_count": 10,
      "outputs": []
    },
    {
      "cell_type": "code",
      "source": [
        "def voltage_filter(v_vec, vmax, scaler):\n",
        "    \n",
        "    filtered = vmax * np.tanh(scaler * np.divide(v_vec, vmax))\n",
        "    \n",
        "    return filtered"
      ],
      "metadata": {
        "id": "By5Yo7zjLeDx"
      },
      "execution_count": 11,
      "outputs": []
    },
    {
      "cell_type": "code",
      "source": [
        "\"\"\" Right hand side \"\"\"\n",
        "def membrane_voltageRHS(t, y):\n",
        "\n",
        "    \"\"\" Split the incoming values \"\"\"\n",
        "    Vvec, SVec = np.split(y, 2)\n",
        "\n",
        "    \"\"\" Gc(Vi - Ec) \"\"\"\n",
        "    VsubEc = np.multiply(Gc, (Vvec - Ec))\n",
        "\n",
        "    \"\"\" Gg(Vi - Vj) Computation \"\"\"\n",
        "    Vrep = np.tile(Vvec, (N, 1))\n",
        "    GapCon = np.multiply(Gg_Dynamic, np.subtract(np.transpose(Vrep), Vrep)).sum(axis = 1)\n",
        "\n",
        "    \"\"\" Gs*S*(Vi - Ej) Computation \"\"\"\n",
        "    VsubEj = np.subtract(np.transpose(Vrep), EMat)\n",
        "    SynapCon = np.multiply(np.multiply(Gs_Dynamic, np.tile(SVec, (N, 1))), VsubEj).sum(axis = 1)\n",
        "\n",
        "    global InMask, Vth\n",
        "\n",
        "    if t >= t_Switch and t <= transit_End:\n",
        "\n",
        "        InMask = update_Mask(oldMask, newMask, t, t_Switch + offset)\n",
        "        Vth = EffVth_rhs(Iext, InMask)\n",
        "\n",
        "    else:\n",
        "\n",
        "        InMask = newMask\n",
        "        Vth = Vth_Static\n",
        "\n",
        "    \"\"\" ar*(1-Si)*Sigmoid Computation \"\"\"\n",
        "    SynRise = np.multiply(np.multiply(ar, (np.subtract(1.0, SVec))),\n",
        "                          np.reciprocal(1.0 + np.exp(-B*(np.subtract(Vvec, Vth)))))\n",
        "\n",
        "    SynDrop = np.multiply(ad, SVec)\n",
        "\n",
        "    \"\"\" Input Mask \"\"\"\n",
        "    Input = np.multiply(Iext, InMask)\n",
        "\n",
        "    \"\"\" dV and dS and merge them back to dydt \"\"\"\n",
        "    dV = (-(VsubEc + GapCon + SynapCon) + Input)/C\n",
        "    dS = np.subtract(SynRise, SynDrop)\n",
        "\n",
        "    return np.concatenate((dV, dS))\n"
      ],
      "metadata": {
        "id": "wAFG7DZ8LgjS"
      },
      "execution_count": 12,
      "outputs": []
    },
    {
      "cell_type": "code",
      "source": [
        "def compute_jacobian(t, y):\n",
        "\n",
        "    Vvec, SVec = np.split(y, 2)\n",
        "    Vrep = np.tile(Vvec, (N, 1))\n",
        "\n",
        "    J1_M1 = -np.multiply(Gc, np.eye(N))\n",
        "    Ggap = np.multiply(ggap, Gg_Dynamic)\n",
        "    Ggapsumdiag = -np.diag(Ggap.sum(axis = 1))\n",
        "    J1_M2 = np.add(Ggap, Ggapsumdiag) \n",
        "    Gsyn = np.multiply(gsyn, Gs_Dynamic)\n",
        "    J1_M3 = np.diag(np.dot(-Gsyn, SVec))\n",
        "\n",
        "    J1 = (J1_M1 + J1_M2 + J1_M3) / C\n",
        "\n",
        "    J2_M4_2 = np.subtract(EMat, np.transpose(Vrep))\n",
        "    J2 = np.multiply(Gsyn, J2_M4_2) / C\n",
        "\n",
        "    global InMask, Vth\n",
        "\n",
        "    if t >= t_Switch and t <= transit_End:\n",
        "\n",
        "        InMask = update_Mask(oldMask, newMask, t, t_Switch + offset)\n",
        "        Vth = EffVth_rhs(Iext, InMask)\n",
        "\n",
        "    else:\n",
        "\n",
        "        InMask = newMask\n",
        "        Vth = Vth_Static\n",
        "\n",
        "    sigmoid_V = np.reciprocal(1.0 + np.exp(-B*(np.subtract(Vvec, Vth))))\n",
        "    J3_1 = np.multiply(ar, 1 - SVec)\n",
        "    J3_2 = np.multiply(B, sigmoid_V)\n",
        "    J3_3 = 1 - sigmoid_V\n",
        "    J3 = np.diag(np.multiply(np.multiply(J3_1, J3_2), J3_3))\n",
        "\n",
        "    J4 = np.diag(np.subtract(np.multiply(-ar, sigmoid_V), ad))\n",
        "\n",
        "    J_row1 = np.hstack((J1, J2))\n",
        "    J_row2 = np.hstack((J3, J4))\n",
        "    J = np.vstack((J_row1, J_row2))\n",
        "\n",
        "    return J\n",
        "\n"
      ],
      "metadata": {
        "id": "dr4h4PqRLkdH"
      },
      "execution_count": 13,
      "outputs": []
    },
    {
      "cell_type": "code",
      "source": [],
      "metadata": {
        "id": "_2RVV0eMLp_h"
      },
      "execution_count": null,
      "outputs": []
    }
  ]
}