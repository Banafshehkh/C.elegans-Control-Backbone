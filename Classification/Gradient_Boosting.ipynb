{
  "nbformat": 4,
  "nbformat_minor": 0,
  "metadata": {
    "colab": {
      "provenance": []
    },
    "kernelspec": {
      "name": "python3",
      "display_name": "Python 3"
    },
    "language_info": {
      "name": "python"
    }
  },
  "cells": [
    {
      "cell_type": "code",
      "execution_count": null,
      "metadata": {
        "id": "oJ3Wn4AQVmwi"
      },
      "outputs": [],
      "source": [
        "#Author: banafsheh Khazali\n",
        "#Date: March 04, 2022"
      ]
    },
    {
      "cell_type": "code",
      "source": [
        "# Import required libraries\n",
        "import os\n",
        "import numpy as np\n",
        "import seaborn as sns\n",
        "import matplotlib.pyplot as plt\n",
        "import pandas as pd\n",
        "from tensorflow.keras.preprocessing.sequence import pad_sequences\n",
        "from sklearn.model_selection import train_test_split\n",
        "from sklearn.ensemble import GradientBoostingClassifier\n",
        "from sklearn.metrics import classification_report, confusion_matrix"
      ],
      "metadata": {
        "id": "FM8jwwHuVvMx"
      },
      "execution_count": 1,
      "outputs": []
    },
    {
      "cell_type": "code",
      "source": [
        "from google.colab import drive\n",
        "drive.mount('/content/drive')"
      ],
      "metadata": {
        "colab": {
          "base_uri": "https://localhost:8080/"
        },
        "id": "xcM9bnsdWPjp",
        "outputId": "bd92589b-b588-4899-dda8-c5e1b502e2c7"
      },
      "execution_count": 2,
      "outputs": [
        {
          "output_type": "stream",
          "name": "stdout",
          "text": [
            "Mounted at /content/drive\n"
          ]
        }
      ]
    },
    {
      "cell_type": "code",
      "source": [
        "# Set the directory containing the CSV files\n",
        "directory = \"/content/drive/My Drive/Data\"\n",
        "\n",
        "# Define a list to store the data and labels\n",
        "data = []\n",
        "labels = []\n",
        "\n",
        "# Loop through the folders\n",
        "for folder in os.listdir(directory):\n",
        "    folder_path = os.path.join(directory, folder)\n",
        "    if os.path.isdir(folder_path):\n",
        "        # Get the label (folder name)\n",
        "        label = folder\n",
        "        \n",
        "        # Loop through the CSV files in the folder\n",
        "        for filename in os.listdir(folder_path):\n",
        "            if filename.endswith(\".csv\"):\n",
        "                # Read the CSV file into a list of lists\n",
        "                with open(os.path.join(folder_path, filename), \"r\") as f:\n",
        "                    lines = f.readlines()\n",
        "                    # Remove the header line if it exists\n",
        "                    if lines[0].startswith(\"time\"):\n",
        "                        lines.pop(0)\n",
        "                    # Extract the data values from the remaining lines\n",
        "                    data_values = [list(map(float, line.strip().split(\",\")[1:])) for line in lines if line.strip().split(\",\")[0] != \"time\"]\n",
        "                # Add the data and label to the lists\n",
        "                data.append(data_values)\n",
        "                          \n",
        "                labels.append(label)\n",
        "\n",
        "# Pad the sequences to make them the same length\n",
        "X_padded = pad_sequences(data, padding=\"post\", dtype=\"float32\")\n",
        "\n",
        "# Convert the data and labels to numpy arrays\n",
        "X = np.array(X_padded)\n",
        "y = np.array(labels)\n",
        "\n",
        "# Flatten the data into a 2D array\n",
        "n_samples, n_timesteps, n_features = X.shape\n",
        "X_flat = X.reshape((n_samples, n_timesteps * n_features))\n",
        "\n",
        "# Split the data into training, validation, and testing sets\n",
        "X_train_val, X_test, y_train_val, y_test = train_test_split(X_flat, labels, test_size=0.2, random_state=42)\n",
        "X_train, X_val, y_train, y_val = train_test_split(X_train_val, y_train_val, test_size=0.25, random_state=42)\n",
        "\n",
        "# Create a gradient boosting classifier and fit it to the training data\n",
        "clf = GradientBoostingClassifier(n_estimators=100, random_state=42)\n",
        "clf.fit(X_train, y_train)\n",
        "\n",
        "# Evaluate the classifier on the training data\n",
        "y_pred_train = clf.predict(X_train)\n",
        "print(\"Training data classification report:\")\n",
        "print(classification_report(y_train, y_pred_train))\n",
        "\n",
        "# Evaluate the classifier on the validation data\n",
        "y_pred_val = clf.predict(X_val)\n",
        "print(\"Validation data classification report:\")\n",
        "print(classification_report(y_val, y_pred_val))\n",
        "\n",
        "# Evaluate the classifier on the testing data\n",
        "y_pred_test = clf.predict(X_test)\n",
        "print(\"Testing data classification report:\")\n",
        "print(classification_report(y_test, y_pred_test))\n",
        "\n",
        "# Calculate and plot the confusion matrix for the testing data\n",
        "cm = confusion_matrix(y_test, y_pred_test)\n",
        "plt.figure(figsize=(8, 8))\n",
        "sns.heatmap(cm, annot=True, cmap=\"Blues\", xticklabels=np.unique(y_train_val), yticklabels=np.unique(y_train_val))\n",
        "plt.xlabel(\"Predicted\")\n",
        "plt.ylabel(\"Actual\")\n",
        "plt.savefig(\"GB_conf.png\")\n",
        "plt.show()\n"
      ],
      "metadata": {
        "colab": {
          "base_uri": "https://localhost:8080/",
          "height": 1000
        },
        "id": "WhnvHI4CVzSf",
        "outputId": "3c4a0e7d-8186-4e88-b547-78d39d110d94"
      },
      "execution_count": 4,
      "outputs": [
        {
          "output_type": "stream",
          "name": "stdout",
          "text": [
            "Training data classification report:\n",
            "              precision    recall  f1-score   support\n",
            "\n",
            "           0       1.00      1.00      1.00         6\n",
            "           1       1.00      1.00      1.00        12\n",
            "\n",
            "    accuracy                           1.00        18\n",
            "   macro avg       1.00      1.00      1.00        18\n",
            "weighted avg       1.00      1.00      1.00        18\n",
            "\n",
            "Validation data classification report:\n",
            "              precision    recall  f1-score   support\n",
            "\n",
            "           0       1.00      1.00      1.00         6\n",
            "           1       1.00      1.00      1.00         1\n",
            "\n",
            "    accuracy                           1.00         7\n",
            "   macro avg       1.00      1.00      1.00         7\n",
            "weighted avg       1.00      1.00      1.00         7\n",
            "\n",
            "Testing data classification report:\n",
            "              precision    recall  f1-score   support\n",
            "\n",
            "           0       1.00      1.00      1.00         4\n",
            "           1       1.00      1.00      1.00         3\n",
            "\n",
            "    accuracy                           1.00         7\n",
            "   macro avg       1.00      1.00      1.00         7\n",
            "weighted avg       1.00      1.00      1.00         7\n",
            "\n"
          ]
        },
        {
          "output_type": "display_data",
          "data": {
            "text/plain": [
              "<Figure size 576x576 with 2 Axes>"
            ],
            "image/png": "[encoded data removed]"
          },
          "metadata": {
            "needs_background": "light"
          }
        }
      ]
    },
    {
      "cell_type": "code",
      "source": [
        "# Fit the Gradient Boosting Classifier to the training data\n",
        "gb = GradientBoostingClassifier(n_estimators=100, random_state=42)\n",
        "gb.fit(X_train, y_train)\n",
        "\n",
        "# Get the feature importances and sort them in descending order\n",
        "importances = gb.feature_importances_\n",
        "sorted_indices = np.argsort(importances)[::-1]\n",
        "\n",
        "# Print the top 10 most important features and their importances\n",
        "print(\"Top 10 most important features:\")\n",
        "for i in range(10):\n",
        "    print(\"%d. Feature %d (%f)\" % (i+1, sorted_indices[i], importances[sorted_indices[i]]))\n"
      ],
      "metadata": {
        "colab": {
          "base_uri": "https://localhost:8080/"
        },
        "id": "H_B5edfKWLuO",
        "outputId": "974760b1-47de-4629-a173-7a2ddcecbd0c"
      },
      "execution_count": 5,
      "outputs": [
        {
          "output_type": "stream",
          "name": "stdout",
          "text": [
            "Top 10 most important features:\n",
            "1. Feature 128008 (0.187809)\n",
            "2. Feature 48573 (0.151421)\n",
            "3. Feature 80798 (0.122568)\n",
            "4. Feature 149188 (0.099459)\n",
            "5. Feature 141190 (0.080844)\n",
            "6. Feature 88834 (0.065795)\n",
            "7. Feature 163075 (0.053598)\n",
            "8. Feature 71838 (0.043695)\n",
            "9. Feature 116776 (0.035643)\n",
            "10. Feature 155674 (0.029089)\n"
          ]
        }
      ]
    },
    {
      "cell_type": "code",
      "source": [
        "gb = GradientBoostingClassifier(n_estimators=100, random_state=42)\n",
        "gb.fit(X_train, y_train)\n",
        "\n",
        "# Get the feature importances and sort them in descending order\n",
        "importances = gb.feature_importances_\n",
        "sorted_indices = np.argsort(importances)[::-1]\n",
        "\n",
        "# Print the top 10 most important features and their importances\n",
        "print(\"Top 10 most important features:\")\n",
        "for i in range(10):\n",
        "    col_idx = sorted_indices[i] % 280  # get the column index from the sorted feature index\n",
        "    print(\"%d. Column %d (%f)\" % (i+1, col_idx, importances[sorted_indices[i]]))\n"
      ],
      "metadata": {
        "id": "hyBoZPdHo_MK",
        "colab": {
          "base_uri": "https://localhost:8080/"
        },
        "outputId": "07ee8150-8e19-477b-a598-ccd90b057e7f"
      },
      "execution_count": 6,
      "outputs": [
        {
          "output_type": "stream",
          "name": "stdout",
          "text": [
            "Top 10 most important features:\n",
            "1. Column 48 (0.187809)\n",
            "2. Column 133 (0.151421)\n",
            "3. Column 158 (0.122568)\n",
            "4. Column 228 (0.099459)\n",
            "5. Column 70 (0.080844)\n",
            "6. Column 74 (0.065795)\n",
            "7. Column 115 (0.053598)\n",
            "8. Column 158 (0.043695)\n",
            "9. Column 16 (0.035643)\n",
            "10. Column 274 (0.029089)\n"
          ]
        }
      ]
    },
    {
      "cell_type": "code",
      "source": [
        "# Set the directory containing the CSV files\n",
        "directory = \"/content/drive/My Drive/Data\"\n",
        "\n",
        "# Define a list to store the data and labels\n",
        "data = []\n",
        "labels = []\n",
        "\n",
        "# Loop through the folders\n",
        "for folder in os.listdir(directory):\n",
        "    folder_path = os.path.join(directory, folder)\n",
        "    if os.path.isdir(folder_path):\n",
        "        # Get the label (folder name)\n",
        "        label = folder\n",
        "        \n",
        "        # Loop through the CSV files in the folder\n",
        "        for filename in os.listdir(folder_path):\n",
        "            if filename.endswith(\".csv\"):\n",
        "                # Read the CSV file into a list of lists\n",
        "                with open(os.path.join(folder_path, filename), \"r\") as f:\n",
        "                    lines = f.readlines()\n",
        "                    # Remove the header line if it exists\n",
        "                    if lines[0].startswith(\"time\"):\n",
        "                        lines.pop(0)\n",
        "                    # Extract the data values from the remaining lines\n",
        "                    data_values = [list(map(float, line.strip().split(\",\")[1:])) for line in lines if line.strip().split(\",\")[0] != \"time\"]\n",
        "                # Add the data and label to the lists\n",
        "                data.append(data_values)\n",
        "                          \n",
        "                labels.append(label)\n",
        "\n",
        "# Pad the sequences to make them the same length\n",
        "X_padded = pad_sequences(data, padding=\"post\", dtype=\"float32\")\n",
        "\n",
        "# Convert the data and labels to numpy arrays\n",
        "X = np.array(X_padded)\n",
        "y = np.array(labels)\n",
        "\n",
        "# Flatten the data into a 2D array\n",
        "n_samples, n_timesteps, n_features = X.shape\n",
        "X_flat = X.reshape((n_samples, n_timesteps * n_features))\n",
        "\n",
        "# Split the data into training, validation, and testing sets\n",
        "X_train_val, X_test, y_train_val, y_test = train_test_split(X_flat, labels, test_size=0.2, random_state=42)\n",
        "X_train, X_val, y_train, y_val = train_test_split(X_train_val, y_train_val, test_size=0.25, random_state=42)\n",
        "\n",
        "# Create a gradient boosting classifier and fit it to the training data\n",
        "clf = GradientBoostingClassifier(n_estimators=100, random_state=42)\n",
        "clf.fit(X_train, y_train)\n",
        "\n",
        "# Get the feature importances and sort them in descending order\n",
        "importances = clf.feature_importances_\n",
        "sorted_indices = np.argsort(importances)[::-1]\n",
        "\n",
        "# Print the top 10 most important features and their importances\n",
        "print(\"Top 10 most important features:\")\n",
        "with open(os.path.join(directory, \"0\", \"syn_0_new600n7.csv\"), \"r\") as f:\n",
        "    column_names = f.readline().strip().split(\",\")[1:-1]\n",
        "\n",
        "\n",
        "for i in range(10):\n",
        "  feature_idx = sorted_indices[i] % 280 # get the feature index from the sorted index\n",
        "  col_name = column_names[feature_idx] # get the column name from the feature index\n",
        "  print(\"%d. %s (%f)\" % (i+1, col_name, importances[sorted_indices[i]]))\n"
      ],
      "metadata": {
        "colab": {
          "base_uri": "https://localhost:8080/"
        },
        "id": "AfODl30BjA6P",
        "outputId": "79046a5e-0a66-4339-9351-c481dd8b4736"
      },
      "execution_count": 23,
      "outputs": [
        {
          "output_type": "stream",
          "name": "stdout",
          "text": [
            "Top 10 most important features:\n",
            "1. RIAL (0.187809)\n",
            "2. AIYR (0.151421)\n",
            "3. RIFL (0.122568)\n",
            "4. VA09 (0.099459)\n",
            "5. ASGL (0.080844)\n",
            "6. AWBR (0.065795)\n",
            "7. AUAR (0.053598)\n",
            "8. RIFL (0.043695)\n",
            "9. URBL (0.035643)\n",
            "10. PHCL (0.029089)\n"
          ]
        }
      ]
    },
    {
      "cell_type": "code",
      "source": [
        "top_cols = []\n",
        "top_importances = []\n",
        "for i in range(10):\n",
        "    col_idx = sorted_indices[i] % 280  # get the column index from the sorted feature index\n",
        "    col_name = column_names[col_idx]\n",
        "    importance = importances[sorted_indices[i]]\n",
        "    top_cols.append(col_name)\n",
        "    top_importances.append(importance)\n",
        "    print(\"%d. %s (%f)\" % (i+1, col_name, importance))\n",
        "\n",
        "# Create a bar plot of the top 10 most important features\n",
        "plt.figure(figsize=(10,6))\n",
        "plt.bar(top_cols, top_importances)\n",
        "plt.xticks(rotation=90)\n",
        "plt.ylabel(\"Feature Importance\")\n",
        "plt.title(\"Top 10 Most Important Features\")\n",
        "plt.savefig(\"GB_features.png\")\n",
        "plt.show()"
      ],
      "metadata": {
        "colab": {
          "base_uri": "https://localhost:8080/",
          "height": 586
        },
        "id": "UmeWklMe1Wpb",
        "outputId": "f3ce7e23-e4fa-42ee-e99b-52dd0fde6cbf"
      },
      "execution_count": 24,
      "outputs": [
        {
          "output_type": "stream",
          "name": "stdout",
          "text": [
            "1. RIAL (0.187809)\n",
            "2. AIYR (0.151421)\n",
            "3. RIFL (0.122568)\n",
            "4. VA09 (0.099459)\n",
            "5. ASGL (0.080844)\n",
            "6. AWBR (0.065795)\n",
            "7. AUAR (0.053598)\n",
            "8. RIFL (0.043695)\n",
            "9. URBL (0.035643)\n",
            "10. PHCL (0.029089)\n"
          ]
        },
        {
          "output_type": "display_data",
          "data": {
            "text/plain": [
              "<Figure size 720x432 with 1 Axes>"
            ],
            "image/png": "[encoded data removed]"
          },
          "metadata": {
            "needs_background": "light"
          }
        }
      ]
    },
    {
      "cell_type": "code",
      "source": [
        "from sklearn.metrics import accuracy_score, precision_score, recall_score\n",
        "import pandas as pd\n",
        "\n",
        "# Define a list to store the data and labels\n",
        "data = []\n",
        "labels = []\n",
        "\n",
        "# Loop through the folders\n",
        "for folder in os.listdir(directory):\n",
        "    folder_path = os.path.join(directory, folder)\n",
        "    if os.path.isdir(folder_path):\n",
        "        # Get the label (folder name)\n",
        "        label = folder\n",
        "        \n",
        "        # Loop through the CSV files in the folder\n",
        "        for filename in os.listdir(folder_path):\n",
        "            if filename.endswith(\".csv\"):\n",
        "                # Read the CSV file into a list of lists\n",
        "                with open(os.path.join(folder_path, filename), \"r\") as f:\n",
        "                    lines = f.readlines()\n",
        "                    # Remove the header line if it exists\n",
        "                    if lines[0].startswith(\"time\"):\n",
        "                        lines.pop(0)\n",
        "                    # Extract the data values from the remaining lines\n",
        "                    data_values = [list(map(float, line.strip().split(\",\")[1:])) for line in lines if line.strip().split(\",\")[0] != \"time\"]\n",
        "                # Add the data and label to the lists\n",
        "                data.append(data_values)\n",
        "                          \n",
        "                labels.append(label)\n",
        "\n",
        "# Pad the sequences to make them the same length\n",
        "X_padded = pad_sequences(data, padding=\"post\", dtype=\"float32\")\n",
        "\n",
        "# Convert the data and labels to numpy arrays\n",
        "X = np.array(X_padded)\n",
        "y = np.array(labels)\n",
        "\n",
        "# Flatten the data into a 2D array\n",
        "n_samples, n_timesteps, n_features = X.shape\n",
        "X_flat = X.reshape((n_samples, n_timesteps * n_features))\n",
        "\n",
        "# Split the data into training, validation, and testing sets\n",
        "X_train_val, X_test, y_train_val, y_test = train_test_split(X_flat, labels, test_size=0.2, random_state=42)\n",
        "X_train, X_val, y_train, y_val = train_test_split(X_train_val, y_train_val, test_size=0.25, random_state=42)\n",
        "\n",
        "# Create a gradient boosting classifier and fit it to the training data\n",
        "clf = GradientBoostingClassifier(n_estimators=100, random_state=42)\n",
        "clf.fit(X_train, y_train)\n",
        "\n",
        "# Evaluate the classifier on the training data\n",
        "y_pred_train = clf.predict(X_train)\n",
        "acc_train = accuracy_score(y_train, y_pred_train)\n",
        "prec_train = precision_score(y_train, y_pred_train, average='macro')\n",
        "rec_train = recall_score(y_train, y_pred_train, average='macro')\n",
        "\n",
        "# Evaluate the classifier on the validation data\n",
        "y_pred_val = clf.predict(X_val)\n",
        "acc_val = accuracy_score(y_val, y_pred_val)\n",
        "prec_val = precision_score(y_val, y_pred_val, average='macro')\n",
        "rec_val = recall_score(y_val, y_pred_val, average='macro')\n",
        "\n",
        "# Evaluate the classifier on the testing data\n",
        "y_pred_test = clf.predict(X_test)\n",
        "acc_test = accuracy_score(y_test, y_pred_test)\n",
        "prec_test = precision_score(y_test, y_pred_test, average='macro')\n",
        "rec_test = recall_score(y_test, y_pred_test, average='macro')\n",
        "\n",
        "# Create a table to display the results\n",
        "data = {'Dataset': ['Training', 'Validation', 'Testing'], \n",
        "        'Accuracy': [acc_train, acc_val, acc_test], \n",
        "        'Precision': [prec_train, prec_val, prec_test], \n",
        "        'Recall': [rec_train, rec_val, rec_test]}\n",
        "df = pd.DataFrame(data)\n",
        "\n",
        "# Create a bar plot to display the results\n",
        "\n",
        "x = np.arange(len(data['Dataset']))\n",
        "width = 0.25\n",
        "\n",
        "fig, ax = plt.subplots()\n",
        "rects1 = ax.bar(x - width/2, data['Accuracy'], width, label='Accuracy')\n",
        "rects2 = ax.bar(x + width/2, data['Recall'], width, label='Recall')\n",
        "rects3 = ax.bar(x + width/2 + width, data['Precision'], width, label='Precision')\n",
        "# Add labels, title and legend\n",
        "\n",
        "ax.set_ylabel('Score')\n",
        "ax.set_title('Model Performance')\n",
        "ax.set_xticks(x)\n",
        "ax.set_xticklabels(data['Dataset'])\n",
        "ax.legend()\n",
        "# Add values on top of the bars\n",
        "\n",
        "def autolabel(rects):\n",
        "  for rect in rects:\n",
        "    height = rect.get_height()\n",
        "    ax.annotate('{}'.format(round(height, 2)),\n",
        "    xy=(rect.get_x() + rect.get_width() / 2, height),\n",
        "    xytext=(0, 3), # 3 points vertical offset\n",
        "    textcoords=\"offset points\",\n",
        "    ha='center', va='bottom')\n",
        "\n",
        "autolabel(rects1)\n",
        "autolabel(rects2)\n",
        "autolabel(rects3)\n",
        "\n",
        "fig.tight_layout()\n",
        "plt.savefig(\"GB_performance.png\")\n",
        "plt.show()\n",
        "\n"
      ],
      "metadata": {
        "colab": {
          "base_uri": "https://localhost:8080/",
          "height": 297
        },
        "id": "n6ZVOfum3xoe",
        "outputId": "a0061701-2c11-4152-fd29-4765f2a40690"
      },
      "execution_count": 31,
      "outputs": [
        {
          "output_type": "display_data",
          "data": {
            "text/plain": [
              "<Figure size 432x288 with 1 Axes>"
            ],
            "image/png": "[encoded data removed]"
          },
          "metadata": {
            "needs_background": "light"
          }
        }
      ]
    },
    {
      "cell_type": "code",
      "source": [],
      "metadata": {
        "id": "_0XU3TLF6M_u"
      },
      "execution_count": null,
      "outputs": []
    }
  ]
}