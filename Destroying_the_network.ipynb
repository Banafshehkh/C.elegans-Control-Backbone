{
  "nbformat": 4,
  "nbformat_minor": 0,
  "metadata": {
    "colab": {
      "provenance": [],
      "authorship_tag": "ABX9TyPvgGPDfPeVBZOwAwbtpFb8",
      "include_colab_link": true
    },
    "kernelspec": {
      "name": "python3",
      "display_name": "Python 3"
    },
    "language_info": {
      "name": "python"
    }
  },
  "cells": [
    {
      "cell_type": "markdown",
      "metadata": {
        "id": "view-in-github",
        "colab_type": "text"
      },
      "source": [
        "<a href=\"https://colab.research.google.com/github/Banafshehkh/C.elegans-Control-Backbone/blob/main/Destroying_the_network.ipynb\" target=\"_parent\"><img src=\"https://colab.research.google.com/assets/colab-badge.svg\" alt=\"Open In Colab\"/></a>"
      ]
    },
    {
      "cell_type": "markdown",
      "source": [
        "In this level we systematically destroy the network and see if it can reproduce the behavior"
      ],
      "metadata": {
        "id": "Ftvv86xQifwN"
      }
    },
    {
      "cell_type": "markdown",
      "source": [
        "# **Initialization:** A population of potential solutions is randomly generated. Each solution is represented as a set of parameters or a string of values known as a chromosome."
      ],
      "metadata": {
        "id": "osbrGH3fjKCt"
      }
    },
    {
      "cell_type": "code",
      "execution_count": null,
      "metadata": {
        "id": "l7gjoZgyicHa"
      },
      "outputs": [],
      "source": []
    }
  ]
}