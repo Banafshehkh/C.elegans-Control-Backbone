{
  "nbformat": 4,
  "nbformat_minor": 0,
  "metadata": {
    "colab": {
      "provenance": [],
      "authorship_tag": "ABX9TyMl7LvuQeatlRcJVSGHWgvR",
      "include_colab_link": true
    },
    "kernelspec": {
      "name": "python3",
      "display_name": "Python 3"
    },
    "language_info": {
      "name": "python"
    }
  },
  "cells": [
    {
      "cell_type": "markdown",
      "metadata": {
        "id": "view-in-github",
        "colab_type": "text"
      },
      "source": [
        "<a href=\"https://colab.research.google.com/github/Banafshehkh/C.elegans-Control-Backbone/blob/main/Destroying_the_network.ipynb\" target=\"_parent\"><img src=\"https://colab.research.google.com/assets/colab-badge.svg\" alt=\"Open In Colab\"/></a>"
      ]
    },
    {
      "cell_type": "markdown",
      "source": [
        "In this level we systematically destroy the network and see if it can reproduce the behavior"
      ],
      "metadata": {
        "id": "Ftvv86xQifwN"
      }
    },
    {
      "cell_type": "code",
      "source": [
        "import time\n",
        "import os\n",
        "\n",
        "import numpy as np\n",
        "import pandas as pd\n",
        "import scipy.io as sio\n",
        "from scipy import integrate, signal, sparse, linalg\n",
        "from threading import Thread\n",
        "import matplotlib.pyplot as plt\n",
        "from matplotlib.animation import FuncAnimation\n",
        "from matplotlib.animation import FuncAnimation, ArtistAnimation\n",
        "import seaborn as sns\n"
      ],
      "metadata": {
        "id": "lUapYeHyllX7"
      },
      "execution_count": 2,
      "outputs": []
    },
    {
      "cell_type": "code",
      "source": [
        "from google.colab import drive\n",
        "drive.mount(\"/content/drive/\")\n",
        ""
      ],
      "metadata": {
        "colab": {
          "base_uri": "https://localhost:8080/"
        },
        "id": "zwn4uNN3nIeT",
        "outputId": "c44d2ab9-4265-4fbe-feb2-808da6043986"
      },
      "execution_count": 4,
      "outputs": [
        {
          "output_type": "stream",
          "name": "stdout",
          "text": [
            "Mounted at /content/drive/\n"
          ]
        }
      ]
    },
    {
      "cell_type": "code",
      "source": [
        "\n",
        "\"\"\" Number of Neurons \"\"\"\n",
        "N = 279\n",
        "\n",
        "\"\"\" Cell membrane conductance (pS) \"\"\"\n",
        "Gc = 0.1\n",
        "\n",
        "\"\"\" Cell Membrane Capacitance \"\"\"\n",
        "C = 0.015\n",
        "\n",
        "\"\"\" Gap Junctions (Electrical, 279*279) \"\"\"\n",
        "ggap = 1.0\n",
        "Gg_Static = np.load('/content/drive/MyDrive/connectome/Gg.npy')\n",
        "\n",
        "\"\"\" Synaptic connections (Chemical, 279*279) \"\"\"\n",
        "gsyn = 1.0\n",
        "Gs_Static = np.load('/content/drive/MyDrive/connectome/Gs.npy')\n",
        "\n",
        "\"\"\" Leakage potential (mV) \"\"\"\n",
        "Ec = -35.0\n",
        "\n",
        "\"\"\" Directionality (279*1) \"\"\"\n",
        "E = np.load('/content/drive/MyDrive/connectome/emask.npy')\n",
        "E = -48.0 * E\n",
        "EMat = np.tile(np.reshape(E, N), (N, 1))\n",
        "\n",
        "\"\"\" Synaptic Activity Parameters \"\"\"\n",
        "ar = 1.0/1.5 # Synaptic activity's rise time\n",
        "ad = 5.0/1.5 # Synaptic activity's decay time\n",
        "B = 0.125 # Width of the sigmoid (mv^-1)\n",
        "\n",
        "\"\"\" Input_Mask/Continuous Transtion \"\"\"\n",
        "transit_Mat = np.zeros((2, N))\n",
        "\n",
        "t_Tracker = 0\n",
        "Iext = 100000\n",
        "\n",
        "rate = 0.025\n",
        "offset = 0.15\n",
        "\n",
        "t_Switch = 0\n",
        "transit_End = 10\n",
        "\n",
        "\n",
        "\"\"\" Connectome Arrays \"\"\"\n",
        "Gg_Dynamic = Gg_Static.copy()\n",
        "Gs_Dynamic = Gs_Static.copy()\n",
        "\n",
        "\"\"\" Data matrix stack size \"\"\"\n",
        "stack_Size = 5000\n",
        "init_data_Mat = np.zeros((stack_Size + 5000, N))\n",
        "data_Mat = np.zeros((stack_Size, N))\n",
        "\n",
        "\n",
        "InMask = np.zeros(N)\n",
        "oldMask = np.zeros(N)\n",
        "newMask = np.zeros(N)"
      ],
      "metadata": {
        "id": "lUaAf8uTnFWS"
      },
      "execution_count": 6,
      "outputs": []
    },
    {
      "cell_type": "markdown",
      "source": [
        "# **Define the Chromosome:** In this case, the chromosome represents the connectivity pattern of the C. elegans network. Each gene in the chromosome corresponds to a connection between two neurons. For example, if you have 279 neurons, the chromosome could be represented as a binary string of length 279*279, where each bit indicates the presence or absence of a connection."
      ],
      "metadata": {
        "id": "v9XnNqIWlCJD"
      }
    },
    {
      "cell_type": "code",
      "source": [
        "gg_flat = Gg_Dynamic.flatten()\n",
        "gs_flat = Gs_Dynamic.flatten()\n",
        "\n",
        "\n",
        "Gg_Dynamic_updated = gg_flat.reshape(Gg_Dynamic.shape)\n",
        "Gs_Dynamic_updated = gs_flat.reshape(Gs_Dynamic.shape)\n",
        "\n"
      ],
      "metadata": {
        "id": "lh3oG_XelGpU"
      },
      "execution_count": 7,
      "outputs": []
    },
    {
      "cell_type": "markdown",
      "source": [
        "Once we have defined the chromosomes representing the electrical and chemical connections, the next step is to integrate them into the genetic algorithm framework. Here's an outline of the next steps:"
      ],
      "metadata": {
        "id": "PH-tajwmm8Bx"
      }
    },
    {
      "cell_type": "markdown",
      "source": [
        "# **Initialization:** A population of potential solutions is randomly generated. Each solution is represented as a set of parameters or a string of values known as a chromosome."
      ],
      "metadata": {
        "id": "osbrGH3fjKCt"
      }
    },
    {
      "cell_type": "code",
      "execution_count": 10,
      "metadata": {
        "id": "l7gjoZgyicHa"
      },
      "outputs": [],
      "source": [
        "# each chromosome represents a potential solution for the electrical and chemical connectivity patterns of the C. elegans simulation.\n",
        "\n",
        "# Calculate the chromosome length based on the connectivity pattern\n",
        "gg_chromosome_length = np.count_nonzero(Gg_Dynamic)\n",
        "gs_chromosome_length = np.count_nonzero(Gs_Dynamic)\n",
        "\n",
        "# Initialize an empty population\n",
        "population = []\n",
        "population_size = 50\n",
        "\n",
        "# Generate random chromosomes for the population\n",
        "for _ in range(population_size):\n",
        "    # Create a new chromosome\n",
        "    gg_chromosome = np.random.choice([0, 1], size=(gg_chromosome_length,))\n",
        "    gs_chromosome = np.random.choice([0, 1], size=(gs_chromosome_length,))\n",
        "\n",
        "    # Add the chromosome to the population\n",
        "    population.append((gg_chromosome, gs_chromosome))\n"
      ]
    },
    {
      "cell_type": "markdown",
      "source": [
        "# **Evaluation:** Evaluate the fitness of each chromosome by running the simulation using the corresponding connectivity matrices. The fitness function should measure the performance or desired outcome of the simulation, which could be optimizing specific behaviors or minimizing certain criteria."
      ],
      "metadata": {
        "id": "jag7h1AcqHn7"
      }
    },
    {
      "cell_type": "markdown",
      "source": [
        "The next step after initializing the population is to evaluate the fitness of each chromosome. In your case, the fitness function should be based on the simulation output, which measures the performance or behavior of the C. elegans network."
      ],
      "metadata": {
        "id": "lsHPL2htqIZE"
      }
    },
    {
      "cell_type": "code",
      "source": [],
      "metadata": {
        "id": "_HL8iL1CotMW"
      },
      "execution_count": 8,
      "outputs": []
    }
  ]
}