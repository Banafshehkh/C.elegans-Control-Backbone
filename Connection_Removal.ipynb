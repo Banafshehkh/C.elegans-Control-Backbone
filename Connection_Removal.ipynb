{
  "nbformat": 4,
  "nbformat_minor": 0,
  "metadata": {
    "colab": {
      "provenance": [],
      "authorship_tag": "ABX9TyOKhR507yXNcwt48P33+EMG",
      "include_colab_link": true
    },
    "kernelspec": {
      "name": "python3",
      "display_name": "Python 3"
    },
    "language_info": {
      "name": "python"
    }
  },
  "cells": [
    {
      "cell_type": "markdown",
      "metadata": {
        "id": "view-in-github",
        "colab_type": "text"
      },
      "source": [
        "<a href=\"https://colab.research.google.com/github/Banafshehkh/C.elegans-Control-Backbone/blob/main/Connection_Removal.ipynb\" target=\"_parent\"><img src=\"https://colab.research.google.com/assets/colab-badge.svg\" alt=\"Open In Colab\"/></a>"
      ]
    },
    {
      "cell_type": "code",
      "execution_count": null,
      "metadata": {
        "id": "bIo9_5ahEKu6"
      },
      "outputs": [],
      "source": [
        "# Author: Banafsheh Khazali\n",
        "# Date: June 5, 2023"
      ]
    },
    {
      "cell_type": "markdown",
      "source": [
        "## ***C.elegans Neuronal Dynamic Simulation***"
      ],
      "metadata": {
        "id": "XIFFdcl_E4RX"
      }
    },
    {
      "cell_type": "code",
      "source": [
        "import time\n",
        "import os\n",
        "\n",
        "import numpy as np\n",
        "import pandas as pd\n",
        "import scipy.io as sio\n",
        "from scipy import integrate, signal, sparse, linalg\n",
        "from threading import Thread\n",
        "import matplotlib.pyplot as plt\n",
        "from matplotlib.animation import FuncAnimation\n",
        "from matplotlib.animation import FuncAnimation, ArtistAnimation\n",
        "import seaborn as sns\n"
      ],
      "metadata": {
        "id": "0ZTs5qbOFDdj"
      },
      "execution_count": 1,
      "outputs": []
    },
    {
      "cell_type": "code",
      "source": [
        "from google.colab import drive\n",
        "drive.mount(\"/content/drive/\")"
      ],
      "metadata": {
        "colab": {
          "base_uri": "https://localhost:8080/"
        },
        "id": "-ke_wZCDJTyV",
        "outputId": "cb68057f-38e4-4e6f-ce0c-2821e8bf7414"
      },
      "execution_count": 2,
      "outputs": [
        {
          "output_type": "stream",
          "name": "stdout",
          "text": [
            "Mounted at /content/drive/\n"
          ]
        }
      ]
    },
    {
      "cell_type": "code",
      "source": [
        "\"\"\" Number of Neurons \"\"\"\n",
        "N = 279\n",
        "\n",
        "\"\"\" Cell membrane conductance (pS) \"\"\"\n",
        "Gc = 0.1\n",
        "\n",
        "\"\"\" Cell Membrane Capacitance \"\"\"\n",
        "C = 0.015\n",
        "\n",
        "\"\"\" Gap Junctions (Electrical, 279*279) \"\"\"\n",
        "ggap = 1.0\n",
        "Gg_Static = np.load('/content/drive/MyDrive/connectome/Gg.npy')\n",
        "\n",
        "\"\"\" Synaptic connections (Chemical, 279*279) \"\"\"\n",
        "gsyn = 1.0\n",
        "Gs_Static = np.load('/content/drive/MyDrive/connectome/Gs.npy')\n",
        "\n",
        "\"\"\" Leakage potential (mV) \"\"\"\n",
        "Ec = -35.0\n",
        "\n",
        "\"\"\" Directionality (279*1) \"\"\"\n",
        "E = np.load('/content/drive/MyDrive/connectome/emask.npy')\n",
        "E = -48.0 * E\n",
        "EMat = np.tile(np.reshape(E, N), (N, 1))\n",
        "\n",
        "\"\"\" Synaptic Activity Parameters \"\"\"\n",
        "ar = 1.0/1.5 # Synaptic activity's rise time\n",
        "ad = 5.0/1.5 # Synaptic activity's decay time\n",
        "B = 0.125 # Width of the sigmoid (mv^-1)\n",
        "\n",
        "\"\"\" Input_Mask/Continuous Transtion \"\"\"\n",
        "transit_Mat = np.zeros((2, N))\n",
        "\n",
        "t_Tracker = 0\n",
        "Iext = 100000\n",
        "\n",
        "rate = 0.025\n",
        "offset = 0.15\n",
        "\n",
        "t_Switch = 0\n",
        "transit_End = 10\n",
        "     \n",
        "\n",
        "\"\"\" Connectome Arrays \"\"\"\n",
        "Gg_Dynamic = Gg_Static.copy()\n",
        "Gs_Dynamic = Gs_Static.copy()\n",
        "\n",
        "\"\"\" Data matrix stack size \"\"\"\n",
        "stack_Size = 5000\n",
        "init_data_Mat = np.zeros((stack_Size + 5000, N))\n",
        "data_Mat = np.zeros((stack_Size, N))\n",
        "\n",
        "# \"\"\" Directory paths for presets \"\"\"\n",
        "# default_Dir = os.getcwd()\n",
        "# preset_Dir = default_Dir + '/presets'\n",
        "# save_Dir = default_Dir + '/saved_dynamics'\n",
        "InMask = np.zeros(N)\n",
        "oldMask = np.zeros(N)\n",
        "newMask = np.zeros(N)\n",
        "\n"
      ],
      "metadata": {
        "id": "sYuMAMXYB4Fv"
      },
      "execution_count": 3,
      "outputs": []
    },
    {
      "cell_type": "code",
      "source": [
        "\n",
        "\"\"\" Mask transition \"\"\"\n",
        "def transit_Mask(input_Array):\n",
        "\n",
        "    global t_Switch, oldMask, newMask, transit_End, Vth_Static\n",
        "\n",
        "    transit_Mat[0,:] = transit_Mat[1,:]\n",
        "\n",
        "    t_Switch = t_Tracker\n",
        "\n",
        "    transit_Mat[1,:] = input_Array\n",
        "\n",
        "    oldMask = transit_Mat[0,:]\n",
        "    newMask = transit_Mat[1,:]\n",
        "\n",
        "    Vth_Static = EffVth_rhs(Iext, newMask)\n",
        "    transit_End = t_Switch + 0.3\n",
        "\n",
        "    print(oldMask, newMask, t_Switch, transit_End)\n",
        "     "
      ],
      "metadata": {
        "id": "Eu7Gu0ueCHHK"
      },
      "execution_count": 4,
      "outputs": []
    },
    {
      "cell_type": "code",
      "source": [
        "def update_Mask(old, new, t, tSwitch):\n",
        "\n",
        "    return np.multiply(old, 0.5-0.5*np.tanh((t-tSwitch)/rate)) + np.multiply(new, 0.5+0.5*np.tanh((t-tSwitch)/rate))"
      ],
      "metadata": {
        "id": "u9tGzTYSCSQj"
      },
      "execution_count": 5,
      "outputs": []
    },
    {
      "cell_type": "code",
      "source": [
        "\"\"\" Ablation \"\"\"\n",
        "def modify_Connectome(ablation_Array):\n",
        "\n",
        "    global Vth_Static, Gg_Dynamic, Gs_Dynamic\n",
        "\n",
        "    apply_Col = np.tile(ablation_Array, (N, 1))\n",
        "    apply_Row = np.transpose(apply_Col)\n",
        "\n",
        "    apply_Mat = np.multiply(apply_Col, apply_Row)\n",
        "\n",
        "    Gg_Dynamic = np.multiply(Gg_Static, apply_Mat)\n",
        "    Gs_Dynamic = np.multiply(Gs_Static, apply_Mat)\n",
        "\n",
        "    try:\n",
        "        newMask\n",
        "\n",
        "    except NameError:\n",
        "\n",
        "        EffVth(Gg_Dynamic, Gs_Dynamic)\n",
        "\n",
        "        if np.sum(ablation_Array) != N:\n",
        "\n",
        "            print(\"Neurons \" + str(np.where(ablation_Array == False)[0]) + \" are ablated\")\n",
        "\n",
        "        else:\n",
        "\n",
        "            print(\"All Neurons healthy\")\n",
        "\n",
        "        print(\"EffVth Recalculated\")\n",
        "\n",
        "    else:\n",
        "\n",
        "        EffVth(Gg_Dynamic, Gs_Dynamic)\n",
        "        Vth_Static = EffVth_rhs(Iext, newMask)\n",
        "\n",
        "        if np.sum(ablation_Array) != N:\n",
        "\n",
        "            print(\"Neurons \" + str(np.where(ablation_Array == False)[0]) + \" are ablated\") \n",
        "\n",
        "        else:\n",
        "\n",
        "            print(\"All Neurons healthy\")\n",
        "\n",
        "        print(\"EffVth Recalculated\")\n",
        "        print(\"Vth Recalculated\")\n"
      ],
      "metadata": {
        "id": "b3GreIYQLQJp"
      },
      "execution_count": 6,
      "outputs": []
    },
    {
      "cell_type": "code",
      "source": [
        "\"\"\" Efficient V-threshold computation \"\"\"\n",
        "def EffVth(Gg, Gs):\n",
        "\n",
        "    Gcmat = np.multiply(Gc, np.eye(N))\n",
        "    EcVec = np.multiply(Ec, np.ones((N, 1)))\n",
        "\n",
        "    M1 = -Gcmat\n",
        "    b1 = np.multiply(Gc, EcVec)\n",
        "\n",
        "    Ggap = np.multiply(ggap, Gg)\n",
        "    Ggapdiag = np.subtract(Ggap, np.diag(np.diag(Ggap)))\n",
        "    Ggapsum = Ggapdiag.sum(axis = 1)\n",
        "    Ggapsummat = sparse.spdiags(Ggapsum, 0, N, N).toarray()\n",
        "    M2 = -np.subtract(Ggapsummat, Ggapdiag)\n",
        "\n",
        "    Gs_ij = np.multiply(gsyn, Gs)\n",
        "    s_eq = round((ar/(ar + 2 * ad)), 4)\n",
        "    sjmat = np.multiply(s_eq, np.ones((N, N)))\n",
        "    S_eq = np.multiply(s_eq, np.ones((N, 1)))\n",
        "    Gsyn = np.multiply(sjmat, Gs_ij)\n",
        "    Gsyndiag = np.subtract(Gsyn, np.diag(np.diag(Gsyn)))\n",
        "    Gsynsum = Gsyndiag.sum(axis = 1)\n",
        "    M3 = -sparse.spdiags(Gsynsum, 0, N, N).toarray()\n",
        "\n",
        "    b3 = np.dot(Gs_ij, np.multiply(s_eq, E))\n",
        "\n",
        "    M = M1 + M2 + M3\n",
        "\n",
        "    global LL, UU, bb\n",
        "\n",
        "    (P, LL, UU) = linalg.lu(M)\n",
        "    bbb = -b1 - b3\n",
        "    bb = np.reshape(bbb, N)\n"
      ],
      "metadata": {
        "id": "veNDs_jvCdIP"
      },
      "execution_count": 7,
      "outputs": []
    },
    {
      "cell_type": "code",
      "source": [
        "def EffVth_rhs(Iext, InMask):\n",
        "\n",
        "    InputMask = np.multiply(Iext, InMask)\n",
        "    b = np.subtract(bb, InputMask)\n",
        "\n",
        "    Vth = linalg.solve_triangular(UU, linalg.solve_triangular(LL, b, lower = True, check_finite=False), check_finite=False)\n",
        "\n",
        "    return Vth\n"
      ],
      "metadata": {
        "id": "uDcAw92SLWkx"
      },
      "execution_count": 8,
      "outputs": []
    },
    {
      "cell_type": "code",
      "source": [
        "def voltage_filter(v_vec, vmax, scaler):\n",
        "    \n",
        "    filtered = vmax * np.tanh(scaler * np.divide(v_vec, vmax))\n",
        "    \n",
        "    return filtered"
      ],
      "metadata": {
        "id": "FxkxxQHJLa3v"
      },
      "execution_count": 9,
      "outputs": []
    },
    {
      "cell_type": "code",
      "source": [
        "\"\"\" Right hand side \"\"\"\n",
        "def membrane_voltageRHS(t, y):\n",
        "    global InMask, Vth, t_switch, transit_End\n",
        "\n",
        "    \"\"\" Split the incoming values \"\"\"\n",
        "    Vvec, SVec = np.split(y, 2)\n",
        "\n",
        "    \"\"\" Gc(Vi - Ec) \"\"\"\n",
        "    VsubEc = np.multiply(Gc, (Vvec - Ec))\n",
        "\n",
        "    \"\"\" Gg(Vi - Vj) Computation \"\"\"\n",
        "    Vrep = np.tile(Vvec, (N, 1))\n",
        "    GapCon = np.multiply(Gg_Dynamic, np.subtract(np.transpose(Vrep), Vrep)).sum(axis = 1)\n",
        "\n",
        "    \"\"\" Gs*S*(Vi - Ej) Computation \"\"\"\n",
        "    VsubEj = np.subtract(np.transpose(Vrep), EMat)\n",
        "    SynapCon = np.multiply(np.multiply(Gs_Dynamic, np.tile(SVec, (N, 1))), VsubEj).sum(axis = 1)\n",
        "\n",
        "    global InMask, Vth\n",
        "\n",
        "    if t >= t_Switch and t <= transit_End:\n",
        "\n",
        "        InMask = update_Mask(oldMask, newMask, t, t_Switch + offset)\n",
        "        Vth = EffVth_rhs(Iext, InMask)\n",
        "\n",
        "    else:\n",
        "\n",
        "        InMask = newMask\n",
        "        Vth = Vth_Static\n",
        "\n",
        "    \"\"\" ar*(1-Si)*Sigmoid Computation \"\"\"\n",
        "    SynRise = np.multiply(np.multiply(ar, (np.subtract(1.0, SVec))),\n",
        "                          np.reciprocal(1.0 + np.exp(-B*(np.subtract(Vvec, Vth)))))\n",
        "\n",
        "    SynDrop = np.multiply(ad, SVec)\n",
        "\n",
        "    \"\"\" Input Mask \"\"\"\n",
        "    Input = np.multiply(Iext, InMask)\n",
        "\n",
        "    \"\"\" dV and dS and merge them back to dydt \"\"\"\n",
        "    dV = (-(VsubEc + GapCon + SynapCon) + Input)/C\n",
        "    dS = np.subtract(SynRise, SynDrop)\n",
        "\n",
        "    return np.concatenate((dV, dS))\n"
      ],
      "metadata": {
        "id": "By5Yo7zjLeDx"
      },
      "execution_count": 10,
      "outputs": []
    },
    {
      "cell_type": "code",
      "source": [
        "def compute_jacobian(t, y):\n",
        "\n",
        "    Vvec, SVec = np.split(y, 2)\n",
        "    Vrep = np.tile(Vvec, (N, 1))\n",
        "\n",
        "    J1_M1 = -np.multiply(Gc, np.eye(N))\n",
        "    Ggap = np.multiply(ggap, Gg_Dynamic)\n",
        "    Ggapsumdiag = -np.diag(Ggap.sum(axis = 1))\n",
        "    J1_M2 = np.add(Ggap, Ggapsumdiag) \n",
        "    Gsyn = np.multiply(gsyn, Gs_Dynamic)\n",
        "    J1_M3 = np.diag(np.dot(-Gsyn, SVec))\n",
        "\n",
        "    J1 = (J1_M1 + J1_M2 + J1_M3) / C\n",
        "\n",
        "    J2_M4_2 = np.subtract(EMat, np.transpose(Vrep))\n",
        "    J2 = np.multiply(Gsyn, J2_M4_2) / C\n",
        "\n",
        "    global InMask, Vth\n",
        "\n",
        "    if t >= t_Switch and t <= transit_End:\n",
        "\n",
        "        InMask = update_Mask(oldMask, newMask, t, t_Switch + offset)\n",
        "        Vth = EffVth_rhs(Iext, InMask)\n",
        "\n",
        "    else:\n",
        "\n",
        "        InMask = newMask\n",
        "        Vth = Vth_Static\n",
        "\n",
        "    sigmoid_V = np.reciprocal(1.0 + np.exp(-B*(np.subtract(Vvec, Vth))))\n",
        "    J3_1 = np.multiply(ar, 1 - SVec)\n",
        "    J3_2 = np.multiply(B, sigmoid_V)\n",
        "    J3_3 = 1 - sigmoid_V\n",
        "    J3 = np.diag(np.multiply(np.multiply(J3_1, J3_2), J3_3))\n",
        "\n",
        "    J4 = np.diag(np.subtract(np.multiply(-ar, sigmoid_V), ad))\n",
        "\n",
        "    J_row1 = np.hstack((J1, J2))\n",
        "    J_row2 = np.hstack((J3, J4))\n",
        "    J = np.vstack((J_row1, J_row2))\n",
        "\n",
        "    return J\n"
      ],
      "metadata": {
        "id": "wAFG7DZ8LgjS"
      },
      "execution_count": 11,
      "outputs": []
    },
    {
      "cell_type": "code",
      "source": [
        "\"\"\" Simulation initiator \"\"\"\n",
        "def run_Network(t_Delta, atol):\n",
        "    dt = t_Delta\n",
        "    InitCond = 10**(-4)*np.random.normal(0, 0.94, 2*N)\n",
        "\n",
        "    \"\"\" Configuring the ODE Solver \"\"\"\n",
        "    r = integrate.ode(membrane_voltageRHS, compute_jacobian).set_integrator('vode', atol=atol, min_step=dt*1e-6, method='bdf')\n",
        "    r.set_initial_value(InitCond, 0)\n",
        "\n",
        "    init_data_Mat[0, :] = InitCond[:N]\n",
        "\n",
        "    session_Data = []\n",
        "    oldMask = newMask = np.zeros(N)\n",
        "    t_Switch = 0\n",
        "    transit_End = 0.3\n",
        "    k = 1\n",
        "\n",
        "    while r.successful() and k < stack_Size + 50:\n",
        "        r.integrate(r.t + dt)\n",
        "        data = np.subtract(r.y[:N], Vth)\n",
        "        init_data_Mat[k, :] = voltage_filter(data, 500, 1)\n",
        "        t_Tracker = r.t\n",
        "        k += 1\n",
        "\n",
        "    # emit('new data', init_data_Mat[50:, :].tolist())\n",
        "    session_Data.append(np.asarray(init_data_Mat[50:, :].tolist()))\n",
        "    return session_Data\n",
        "\n",
        "EffVth(Gg_Static, Gs_Static)\n"
      ],
      "metadata": {
        "id": "dr4h4PqRLkdH"
      },
      "execution_count": 12,
      "outputs": []
    },
    {
      "cell_type": "code",
      "source": [
        "# t_Delta = 0.001\n",
        "# atol = 1e-6\n",
        "\n",
        "# #Neuron Stimulation\n",
        "# indices = [276, 278]\n",
        "# value = 9\n",
        "# newMask[indices] = value\n",
        "\n",
        "\n",
        "# simulation_data = run_Network(t_Delta, atol)\n",
        "# simulation_array = np.array(simulation_data[0])\n",
        "# output_file = \"simulation_output.npy\"\n",
        "# np.save(output_file, simulation_array)\n",
        "\n",
        "\n",
        "# # for second, data in enumerate(simulation_data[0]):\n",
        "# #     print(f\"Second {second}:\")\n",
        "# #     print(data)\n",
        "# #     print()"
      ],
      "metadata": {
        "id": "Jw6Snpx5q16b",
        "colab": {
          "base_uri": "https://localhost:8080/"
        },
        "outputId": "4c2806b4-6104-40f2-fdf3-082455328577"
      },
      "execution_count": null,
      "outputs": [
        {
          "output_type": "stream",
          "name": "stderr",
          "text": [
            "<ipython-input-45-dad67b4ae370>:33: RuntimeWarning: overflow encountered in exp\n",
            "  np.reciprocal(1.0 + np.exp(-B*(np.subtract(Vvec, Vth)))))\n",
            "<ipython-input-46-549041911109>:30: RuntimeWarning: overflow encountered in exp\n",
            "  sigmoid_V = np.reciprocal(1.0 + np.exp(-B*(np.subtract(Vvec, Vth))))\n"
          ]
        }
      ]
    },
    {
      "cell_type": "code",
      "source": [
        "# Function to remove connections\n",
        "def remove_connections(percentage):\n",
        "    global Gg_Dynamic, Gs_Dynamic\n",
        "    num_connections = int(percentage * N * N / 100)  # Calculate the number of connections to remove\n",
        "    indices = np.random.choice(N * N, num_connections, replace=False)  # Randomly choose indices of connections to remove\n",
        "\n",
        "    # Set the values of the chosen indices to zero in the connectome arrays\n",
        "    Gg_Dynamic.flat[indices] = 0\n",
        "    Gs_Dynamic.flat[indices] = 0\n",
        "\n",
        "    return indices\n",
        "\n",
        "# Function to save neuronal activity\n",
        "def save_neuronal_activity(data, indices, iteration):\n",
        "    output_file = f\"neuronal_activity_{iteration}.npy\"\n",
        "    np.save(output_file, data)\n",
        "    print(f\"Neuronal activity saved to {output_file}\")\n",
        "    print(\"Removed connections indices:\", indices)"
      ],
      "metadata": {
        "id": "1nGk0KgqPs_h"
      },
      "execution_count": 13,
      "outputs": []
    },
    {
      "cell_type": "code",
      "source": [
        "# Simulation initiator\n",
        "def run_simulation(t_Delta, atol, num_iterations):\n",
        "    dt = t_Delta\n",
        "    InitCond = 10 ** (-4) * np.random.normal(0, 0.94, 2 * N)\n",
        "\n",
        "    r = integrate.ode(membrane_voltageRHS, compute_jacobian).set_integrator('vode', atol=atol, min_step=dt * 1e-6, method='bdf')\n",
        "    r.set_initial_value(InitCond, 0)\n",
        "\n",
        "    init_data_Mat[0, :] = InitCond[:N]\n",
        "\n",
        "    session_Data = []\n",
        "    indices = []\n",
        "    for i in range(num_iterations):\n",
        "        # Remove 2% of connections\n",
        "        removed_indices = remove_connections(2)\n",
        "        indices.append(removed_indices)\n",
        "\n",
        "        while r.successful() and k < stack_Size + 50:\n",
        "            r.integrate(r.t + dt)\n",
        "            data = np.subtract(r.y[:N], Vth)\n",
        "            init_data_Mat[k, :] = voltage_filter(data, 500, 1)\n",
        "            t_Tracker = r.t\n",
        "            k += 1\n",
        "\n",
        "        session_Data.append(np.asarray(init_data_Mat[50:, :].tolist()))\n",
        "\n",
        "        # Save neuronal activity\n",
        "        save_neuronal_activity(init_data_Mat[50:, :], removed_indices, i+1)\n",
        "\n",
        "    return session_Data\n",
        "\n",
        "# Set the initial connectome arrays\n",
        "Gg_Dynamic = Gg_Static.copy()\n",
        "Gs_Dynamic = Gs_Static.copy()\n",
        "\n",
        "# Run the simulation and save neuronal activity\n",
        "t_Delta = 0.001\n",
        "atol = 1e-6\n",
        "num_iterations = 10\n",
        "\n",
        "simulation_data = run_simulation(t_Delta, atol, num_iterations)\n",
        "simulation_array = np.array(simulation_data)\n",
        "output_file = \"simulation_output.npy\"\n",
        "np.save(output_file, simulation_array)"
      ],
      "metadata": {
        "colab": {
          "base_uri": "https://localhost:8080/",
          "height": 357
        },
        "id": "Jiehm2KzPvcx",
        "outputId": "94a27af9-d19c-417b-ea20-c32904b04ff0"
      },
      "execution_count": 14,
      "outputs": [
        {
          "output_type": "error",
          "ename": "UnboundLocalError",
          "evalue": "ignored",
          "traceback": [
            "\u001b[0;31m---------------------------------------------------------------------------\u001b[0m",
            "\u001b[0;31mUnboundLocalError\u001b[0m                         Traceback (most recent call last)",
            "\u001b[0;32m<ipython-input-14-1922e2f1ca58>\u001b[0m in \u001b[0;36m<cell line: 41>\u001b[0;34m()\u001b[0m\n\u001b[1;32m     39\u001b[0m \u001b[0mnum_iterations\u001b[0m \u001b[0;34m=\u001b[0m \u001b[0;36m10\u001b[0m\u001b[0;34m\u001b[0m\u001b[0;34m\u001b[0m\u001b[0m\n\u001b[1;32m     40\u001b[0m \u001b[0;34m\u001b[0m\u001b[0m\n\u001b[0;32m---> 41\u001b[0;31m \u001b[0msimulation_data\u001b[0m \u001b[0;34m=\u001b[0m \u001b[0mrun_simulation\u001b[0m\u001b[0;34m(\u001b[0m\u001b[0mt_Delta\u001b[0m\u001b[0;34m,\u001b[0m \u001b[0matol\u001b[0m\u001b[0;34m,\u001b[0m \u001b[0mnum_iterations\u001b[0m\u001b[0;34m)\u001b[0m\u001b[0;34m\u001b[0m\u001b[0;34m\u001b[0m\u001b[0m\n\u001b[0m\u001b[1;32m     42\u001b[0m \u001b[0msimulation_array\u001b[0m \u001b[0;34m=\u001b[0m \u001b[0mnp\u001b[0m\u001b[0;34m.\u001b[0m\u001b[0marray\u001b[0m\u001b[0;34m(\u001b[0m\u001b[0msimulation_data\u001b[0m\u001b[0;34m)\u001b[0m\u001b[0;34m\u001b[0m\u001b[0;34m\u001b[0m\u001b[0m\n\u001b[1;32m     43\u001b[0m \u001b[0moutput_file\u001b[0m \u001b[0;34m=\u001b[0m \u001b[0;34m\"simulation_output.npy\"\u001b[0m\u001b[0;34m\u001b[0m\u001b[0;34m\u001b[0m\u001b[0m\n",
            "\u001b[0;32m<ipython-input-14-1922e2f1ca58>\u001b[0m in \u001b[0;36mrun_simulation\u001b[0;34m(t_Delta, atol, num_iterations)\u001b[0m\n\u001b[1;32m     16\u001b[0m         \u001b[0mindices\u001b[0m\u001b[0;34m.\u001b[0m\u001b[0mappend\u001b[0m\u001b[0;34m(\u001b[0m\u001b[0mremoved_indices\u001b[0m\u001b[0;34m)\u001b[0m\u001b[0;34m\u001b[0m\u001b[0;34m\u001b[0m\u001b[0m\n\u001b[1;32m     17\u001b[0m \u001b[0;34m\u001b[0m\u001b[0m\n\u001b[0;32m---> 18\u001b[0;31m         \u001b[0;32mwhile\u001b[0m \u001b[0mr\u001b[0m\u001b[0;34m.\u001b[0m\u001b[0msuccessful\u001b[0m\u001b[0;34m(\u001b[0m\u001b[0;34m)\u001b[0m \u001b[0;32mand\u001b[0m \u001b[0mk\u001b[0m \u001b[0;34m<\u001b[0m \u001b[0mstack_Size\u001b[0m \u001b[0;34m+\u001b[0m \u001b[0;36m50\u001b[0m\u001b[0;34m:\u001b[0m\u001b[0;34m\u001b[0m\u001b[0;34m\u001b[0m\u001b[0m\n\u001b[0m\u001b[1;32m     19\u001b[0m             \u001b[0mr\u001b[0m\u001b[0;34m.\u001b[0m\u001b[0mintegrate\u001b[0m\u001b[0;34m(\u001b[0m\u001b[0mr\u001b[0m\u001b[0;34m.\u001b[0m\u001b[0mt\u001b[0m \u001b[0;34m+\u001b[0m \u001b[0mdt\u001b[0m\u001b[0;34m)\u001b[0m\u001b[0;34m\u001b[0m\u001b[0;34m\u001b[0m\u001b[0m\n\u001b[1;32m     20\u001b[0m             \u001b[0mdata\u001b[0m \u001b[0;34m=\u001b[0m \u001b[0mnp\u001b[0m\u001b[0;34m.\u001b[0m\u001b[0msubtract\u001b[0m\u001b[0;34m(\u001b[0m\u001b[0mr\u001b[0m\u001b[0;34m.\u001b[0m\u001b[0my\u001b[0m\u001b[0;34m[\u001b[0m\u001b[0;34m:\u001b[0m\u001b[0mN\u001b[0m\u001b[0;34m]\u001b[0m\u001b[0;34m,\u001b[0m \u001b[0mVth\u001b[0m\u001b[0;34m)\u001b[0m\u001b[0;34m\u001b[0m\u001b[0;34m\u001b[0m\u001b[0m\n",
            "\u001b[0;31mUnboundLocalError\u001b[0m: local variable 'k' referenced before assignment"
          ]
        }
      ]
    },
    {
      "cell_type": "code",
      "source": [],
      "metadata": {
        "id": "S7JHLWoRQGcN"
      },
      "execution_count": null,
      "outputs": []
    }
  ]
}