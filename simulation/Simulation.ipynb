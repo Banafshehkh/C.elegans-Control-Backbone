{
  "nbformat": 4,
  "nbformat_minor": 0,
  "metadata": {
    "colab": {
      "provenance": []
    },
    "kernelspec": {
      "name": "python3",
      "display_name": "Python 3"
    },
    "language_info": {
      "name": "python"
    }
  },
  "cells": [
    {
      "cell_type": "code",
      "execution_count": 21,
      "metadata": {
        "id": "PPyI8vbVNB4D"
      },
      "outputs": [],
      "source": [
        "import numpy as np\n",
        "from scipy.integrate import solve_ivp\n",
        "import os\n",
        "from scipy import sparse, linalg\n"
      ]
    },
    {
      "cell_type": "code",
      "source": [
        "from google.colab import drive\n",
        "drive.mount('/content/drive')"
      ],
      "metadata": {
        "colab": {
          "base_uri": "https://localhost:8080/"
        },
        "id": "_UR8-3WAN2DS",
        "outputId": "8a2beef4-ed17-4c08-ce4f-c7dc2dcc6aa3"
      },
      "execution_count": 3,
      "outputs": [
        {
          "output_type": "stream",
          "name": "stdout",
          "text": [
            "Mounted at /content/drive\n"
          ]
        }
      ]
    },
    {
      "cell_type": "code",
      "source": [
        "# Number of Neurons\n",
        "N = 279\n",
        "\n",
        "# Cell membrane conductance (pS)\n",
        "Gc = 0.1\n",
        "\n",
        "# Cell Membrane Capacitance\n",
        "C = 0.015\n",
        "\n",
        "# Gap Junctions (Electrical, 279*279)\n",
        "ggap = 1.0\n",
        "Gg_Static = np.load('/content/drive/MyDrive/simulation_data/Gg.npy')\n",
        "\n",
        "# Synaptic connections (Chemical, 279*279)\n",
        "gsyn = 1.0\n",
        "Gs_Static = np.load('/content/drive/MyDrive/simulation_data/Gs.npy')\n",
        "\n",
        "# Leakage potential (mV)\n",
        "Ec = -35.0\n",
        "\n",
        "# Directionality (279*1)\n",
        "E = np.load('/content/drive/MyDrive/simulation_data/emask.npy')\n",
        "E = -48.0 * E\n",
        "EMat = np.tile(np.reshape(E, N), (N, 1))\n",
        "\n",
        "# Synaptic Activity Parameters\n",
        "ar = 1.0 / 1.5  # Synaptic activity's rise time\n",
        "ad = 5.0 / 1.5  # Synaptic activity's decay time\n",
        "B = 0.125  # Width of the sigmoid (mv^-1)\n",
        "\n",
        "# Input Mask/Continuous Transition\n",
        "transit_Mat = np.zeros((2, N))\n",
        "t_Tracker = 0\n",
        "Iext = 100000\n",
        "\n",
        "rate = 0.025\n",
        "offset = 0.15\n"
      ],
      "metadata": {
        "id": "5ZT6m9eCNJUp"
      },
      "execution_count": 4,
      "outputs": []
    },
    {
      "cell_type": "code",
      "source": [
        "# Connectome Arrays\n",
        "Gg_Dynamic = Gg_Static.copy()\n",
        "Gs_Dynamic = Gs_Static.copy()\n",
        "\n",
        "# Data matrix stack size\n",
        "stack_Size = 5\n",
        "init_data_Mat = np.zeros((stack_Size + 50, N))\n",
        "data_Mat = np.zeros((stack_Size, N))"
      ],
      "metadata": {
        "id": "1UEoN-jQNkB1"
      },
      "execution_count": 5,
      "outputs": []
    },
    {
      "cell_type": "code",
      "source": [
        "# Mask transition\n",
        "def transit_Mask(input_Array):\n",
        "    global t_Switch, oldMask, newMask, transit_End, Vth_Static, t_Tracker\n",
        "\n",
        "    transit_Mat[0, :] = transit_Mat[1, :]\n",
        "\n",
        "    t_Switch = t_Tracker\n",
        "\n",
        "    transit_Mat[1, :] = input_Array\n",
        "\n",
        "    oldMask = transit_Mat[0, :]\n",
        "    newMask = transit_Mat[1, :]\n",
        "\n",
        "    Vth_Static = EffVth_rhs(Iext, newMask)\n",
        "    transit_End = t_Tracker + 0.3\n",
        "\n",
        "    print(oldMask, newMask, t_Switch, transit_End)\n"
      ],
      "metadata": {
        "id": "uFlqQm5eOUR8"
      },
      "execution_count": 22,
      "outputs": []
    },
    {
      "cell_type": "code",
      "source": [
        "def update_Mask(old, new, t, tSwitch):\n",
        "    return np.multiply(old, 0.5 - 0.5 * np.tanh((t - tSwitch) / rate)) + np.multiply(new, 0.5 + 0.5 * np.tanh((t - tSwitch) / rate))"
      ],
      "metadata": {
        "id": "TOZLPV7BOXT5"
      },
      "execution_count": 7,
      "outputs": []
    },
    {
      "cell_type": "code",
      "source": [
        "# Ablation\n",
        "def modify_Connectome(ablation_Array):\n",
        "    global Vth_Static, Gg_Dynamic, Gs_Dynamic\n",
        "\n",
        "    apply_Col = np.tile(ablation_Array, (N, 1))\n",
        "    apply_Row = np.transpose(apply_Col)\n",
        "\n",
        "    apply_Mat = np.multiply(apply_Col, apply_Row)\n",
        "\n",
        "    Gg_Dynamic = np.multiply(Gg_Static, apply_Mat)\n",
        "    Gs_Dynamic = np.multiply(Gs_Static, apply_Mat)\n",
        "\n",
        "    try:\n",
        "        newMask\n",
        "    except NameError:\n",
        "        EffVth(Gg_Dynamic, Gs_Dynamic)\n",
        "        if np.sum(ablation_Array) != N:\n",
        "            print(\"Neurons \" + str(np.where(ablation_Array == False)[0]) + \" are ablated\")\n",
        "        else:\n",
        "            print(\"All Neurons healthy\")\n",
        "    print(\"EffVth Recalculated\")\n",
        "    \n",
        "    print(\"Vth Recalculated\")\n",
        "\n"
      ],
      "metadata": {
        "id": "1hwzh0OFObAz"
      },
      "execution_count": 8,
      "outputs": []
    },
    {
      "cell_type": "code",
      "source": [
        "\"\"\" Efficient V-threshold computation \"\"\"\n",
        "def EffVth(Gg, Gs):\n",
        "  \n",
        "  Gcmat = np.multiply(Gc, np.eye(N))\n",
        "  EcVec = np.multiply(Ec, np.ones((N, 1)))\n",
        "\n",
        "  M1 = -Gcmat\n",
        "  b1 = np.multiply(Gc, EcVec)\n",
        "\n",
        "  Ggap = np.multiply(ggap, Gg)\n",
        "  Ggapdiag = np.subtract(Ggap, np.diag(np.diag(Ggap)))\n",
        "  Ggapsum = Ggapdiag.sum(axis=1)\n",
        "  Ggapsummat = np.diag(Ggapsum)\n",
        "  M2 = -np.subtract(Ggapsummat, Ggapdiag)\n",
        "\n",
        "  Gs_ij = np.multiply(gsyn, Gs)\n",
        "  s_eq = round((ar / (ar + 2 * ad)), 4)\n",
        "  sjmat = np.multiply(s_eq, np.ones((N, N)))\n",
        "  S_eq = np.multiply(s_eq, np.ones((N, 1)))\n",
        "  Gsyn = np.multiply(sjmat, Gs_ij)\n",
        "  Gsyndiag = np.subtract(Gsyn, np.diag(np.diag(Gsyn)))\n",
        "  Gsynsum = Gsyndiag.sum(axis=1)\n",
        "  M3 = -np.diag(Gsynsum)\n",
        "\n",
        "  b3 = np.dot(Gs_ij, np.multiply(s_eq, E))\n",
        "\n",
        "  M = M1 + M2 + M3\n",
        "\n",
        "  global LL, UU, bb\n",
        "\n",
        "  (P, LL, UU) = linalg.lu(M)\n",
        "  bbb = -b1 - b3\n",
        "  bb = np.reshape(bbb, N)\n",
        "\n",
        "\n"
      ],
      "metadata": {
        "id": "jp6XuwZXOyRx"
      },
      "execution_count": 10,
      "outputs": []
    },
    {
      "cell_type": "code",
      "source": [
        "def EffVth_rhs(Iext, InMask):\n",
        "  InputMask = np.multiply(Iext, InMask)\n",
        "  b = np.subtract(bb, InputMask)\n",
        "  Vth = np.linalg.solve(UU, np.linalg.solve(LL, b))\n",
        "\n",
        "  return Vth\n"
      ],
      "metadata": {
        "id": "6kOFLJy1O96u"
      },
      "execution_count": 11,
      "outputs": []
    },
    {
      "cell_type": "code",
      "source": [
        "def voltage_filter(v_vec, vmax, scaler):\n",
        "  filtered = vmax * np.tanh(scaler * np.divide(v_vec, vmax))\n",
        "  return filtered"
      ],
      "metadata": {
        "id": "bSsbUDfAQFYq"
      },
      "execution_count": 16,
      "outputs": []
    },
    {
      "cell_type": "code",
      "source": [
        "\"\"\" Right hand side \"\"\"\n",
        "def membrane_voltageRHS(t, y):\n",
        "\n",
        "    \"\"\" Split the incoming values \"\"\"\n",
        "    Vvec, SVec = np.split(y, 2)\n",
        "\n",
        "    \"\"\" Gc(Vi - Ec) \"\"\"\n",
        "    VsubEc = np.multiply(Gc, (Vvec - Ec))\n",
        "\n",
        "    \"\"\" Gg(Vi - Vj) Computation \"\"\"\n",
        "    Vrep = np.tile(Vvec, (N, 1))\n",
        "    GapCon = np.multiply(Gg_Dynamic, np.subtract(np.transpose(Vrep), Vrep)).sum(axis = 1)\n",
        "\n",
        "    \"\"\" Gs*S*(Vi - Ej) Computation \"\"\"\n",
        "    VsubEj = np.subtract(np.transpose(Vrep), EMat)\n",
        "    SynapCon = np.multiply(np.multiply(Gs_Dynamic, np.tile(SVec, (N, 1))), VsubEj).sum(axis = 1)\n",
        "\n",
        "    global InMask, Vth\n",
        "\n",
        "    if t >= t_Switch and t <= transit_End:\n",
        "\n",
        "        InMask = update_Mask(oldMask, newMask, t, t_Switch + offset)\n",
        "        Vth = EffVth_rhs(Iext, InMask)\n",
        "\n",
        "    else:\n",
        "\n",
        "        InMask = newMask\n",
        "        Vth = Vth_Static\n",
        "\n",
        "    \"\"\" ar*(1-Si)*Sigmoid Computation \"\"\"\n",
        "    SynRise = np.multiply(np.multiply(ar, (np.subtract(1.0, SVec))),\n",
        "                          np.reciprocal(1.0 + np.exp(-B*(np.subtract(Vvec, Vth)))))\n",
        "\n",
        "    SynDrop = np.multiply(ad, SVec)\n",
        "\n",
        "    \"\"\" Input Mask \"\"\"\n",
        "    Input = np.multiply(Iext, InMask)\n",
        "\n",
        "    \"\"\" dV and dS and merge them back to dydt \"\"\"\n",
        "    dV = (-(VsubEc + GapCon + SynapCon) + Input)/C\n",
        "    dS = np.subtract(SynRise, SynDrop)\n",
        "\n",
        "    return np.concatenate((dV, dS))"
      ],
      "metadata": {
        "id": "HbdrMRiqPLUO"
      },
      "execution_count": 17,
      "outputs": []
    },
    {
      "cell_type": "code",
      "source": [
        "import numpy as np\n",
        "from scipy.integrate import solve_ivp\n",
        "\n",
        "# Define the initial conditions\n",
        "V0 = np.zeros(N)  # Initial membrane voltage\n",
        "S0 = np.zeros(N)  # Initial synaptic activity\n",
        "y0 = np.concatenate((V0, S0))\n",
        "\n",
        "# Define the time points for the simulation\n",
        "t_start = 0  # Start time\n",
        "t_end = 10  # End time\n",
        "t_step = 0.01  # Time step\n",
        "t_points = np.arange(t_start, t_end, t_step)\n",
        "\n",
        "# Call the solve_ivp function to run the simulation\n",
        "solution = solve_ivp(membrane_voltageRHS, (t_start, t_end), y0, t_eval=t_points, method='RK45')\n",
        "\n",
        "# Extract the results\n",
        "t = solution.t  # Time points\n",
        "V = solution.y[:N]  # Membrane voltage\n",
        "S = solution.y[N:]  # Synaptic activity\n",
        "\n",
        "# Print the results or perform any desired analysis\n",
        "print(\"Simulation results:\")\n",
        "print(\"Time:\", t)\n",
        "print(\"Membrane voltage:\", V)\n",
        "print(\"Synaptic activity:\", S)\n"
      ],
      "metadata": {
        "colab": {
          "base_uri": "https://localhost:8080/",
          "height": 386
        },
        "id": "q9QFXIO0PjKR",
        "outputId": "ef9041a4-bbfc-4a56-c72c-fdb8b82093fd"
      },
      "execution_count": 23,
      "outputs": [
        {
          "output_type": "error",
          "ename": "NameError",
          "evalue": "ignored",
          "traceback": [
            "\u001b[0;31m---------------------------------------------------------------------------\u001b[0m",
            "\u001b[0;31mNameError\u001b[0m                                 Traceback (most recent call last)",
            "\u001b[0;32m<ipython-input-23-5020b1c27401>\u001b[0m in \u001b[0;36m<cell line: 16>\u001b[0;34m()\u001b[0m\n\u001b[1;32m     14\u001b[0m \u001b[0;34m\u001b[0m\u001b[0m\n\u001b[1;32m     15\u001b[0m \u001b[0;31m# Call the solve_ivp function to run the simulation\u001b[0m\u001b[0;34m\u001b[0m\u001b[0;34m\u001b[0m\u001b[0m\n\u001b[0;32m---> 16\u001b[0;31m \u001b[0msolution\u001b[0m \u001b[0;34m=\u001b[0m \u001b[0msolve_ivp\u001b[0m\u001b[0;34m(\u001b[0m\u001b[0mmembrane_voltageRHS\u001b[0m\u001b[0;34m,\u001b[0m \u001b[0;34m(\u001b[0m\u001b[0mt_start\u001b[0m\u001b[0;34m,\u001b[0m \u001b[0mt_end\u001b[0m\u001b[0;34m)\u001b[0m\u001b[0;34m,\u001b[0m \u001b[0my0\u001b[0m\u001b[0;34m,\u001b[0m \u001b[0mt_eval\u001b[0m\u001b[0;34m=\u001b[0m\u001b[0mt_points\u001b[0m\u001b[0;34m,\u001b[0m \u001b[0mmethod\u001b[0m\u001b[0;34m=\u001b[0m\u001b[0;34m'RK45'\u001b[0m\u001b[0;34m)\u001b[0m\u001b[0;34m\u001b[0m\u001b[0;34m\u001b[0m\u001b[0m\n\u001b[0m\u001b[1;32m     17\u001b[0m \u001b[0;34m\u001b[0m\u001b[0m\n\u001b[1;32m     18\u001b[0m \u001b[0;31m# Extract the results\u001b[0m\u001b[0;34m\u001b[0m\u001b[0;34m\u001b[0m\u001b[0m\n",
            "\u001b[0;32m/usr/local/lib/python3.10/dist-packages/scipy/integrate/_ivp/ivp.py\u001b[0m in \u001b[0;36msolve_ivp\u001b[0;34m(fun, t_span, y0, method, t_eval, dense_output, events, vectorized, args, **options)\u001b[0m\n\u001b[1;32m    555\u001b[0m         \u001b[0mmethod\u001b[0m \u001b[0;34m=\u001b[0m \u001b[0mMETHODS\u001b[0m\u001b[0;34m[\u001b[0m\u001b[0mmethod\u001b[0m\u001b[0;34m]\u001b[0m\u001b[0;34m\u001b[0m\u001b[0;34m\u001b[0m\u001b[0m\n\u001b[1;32m    556\u001b[0m \u001b[0;34m\u001b[0m\u001b[0m\n\u001b[0;32m--> 557\u001b[0;31m     \u001b[0msolver\u001b[0m \u001b[0;34m=\u001b[0m \u001b[0mmethod\u001b[0m\u001b[0;34m(\u001b[0m\u001b[0mfun\u001b[0m\u001b[0;34m,\u001b[0m \u001b[0mt0\u001b[0m\u001b[0;34m,\u001b[0m \u001b[0my0\u001b[0m\u001b[0;34m,\u001b[0m \u001b[0mtf\u001b[0m\u001b[0;34m,\u001b[0m \u001b[0mvectorized\u001b[0m\u001b[0;34m=\u001b[0m\u001b[0mvectorized\u001b[0m\u001b[0;34m,\u001b[0m \u001b[0;34m**\u001b[0m\u001b[0moptions\u001b[0m\u001b[0;34m)\u001b[0m\u001b[0;34m\u001b[0m\u001b[0;34m\u001b[0m\u001b[0m\n\u001b[0m\u001b[1;32m    558\u001b[0m \u001b[0;34m\u001b[0m\u001b[0m\n\u001b[1;32m    559\u001b[0m     \u001b[0;32mif\u001b[0m \u001b[0mt_eval\u001b[0m \u001b[0;32mis\u001b[0m \u001b[0;32mNone\u001b[0m\u001b[0;34m:\u001b[0m\u001b[0;34m\u001b[0m\u001b[0;34m\u001b[0m\u001b[0m\n",
            "\u001b[0;32m/usr/local/lib/python3.10/dist-packages/scipy/integrate/_ivp/rk.py\u001b[0m in \u001b[0;36m__init__\u001b[0;34m(self, fun, t0, y0, t_bound, max_step, rtol, atol, vectorized, first_step, **extraneous)\u001b[0m\n\u001b[1;32m     92\u001b[0m         \u001b[0mself\u001b[0m\u001b[0;34m.\u001b[0m\u001b[0mmax_step\u001b[0m \u001b[0;34m=\u001b[0m \u001b[0mvalidate_max_step\u001b[0m\u001b[0;34m(\u001b[0m\u001b[0mmax_step\u001b[0m\u001b[0;34m)\u001b[0m\u001b[0;34m\u001b[0m\u001b[0;34m\u001b[0m\u001b[0m\n\u001b[1;32m     93\u001b[0m         \u001b[0mself\u001b[0m\u001b[0;34m.\u001b[0m\u001b[0mrtol\u001b[0m\u001b[0;34m,\u001b[0m \u001b[0mself\u001b[0m\u001b[0;34m.\u001b[0m\u001b[0matol\u001b[0m \u001b[0;34m=\u001b[0m \u001b[0mvalidate_tol\u001b[0m\u001b[0;34m(\u001b[0m\u001b[0mrtol\u001b[0m\u001b[0;34m,\u001b[0m \u001b[0matol\u001b[0m\u001b[0;34m,\u001b[0m \u001b[0mself\u001b[0m\u001b[0;34m.\u001b[0m\u001b[0mn\u001b[0m\u001b[0;34m)\u001b[0m\u001b[0;34m\u001b[0m\u001b[0;34m\u001b[0m\u001b[0m\n\u001b[0;32m---> 94\u001b[0;31m         \u001b[0mself\u001b[0m\u001b[0;34m.\u001b[0m\u001b[0mf\u001b[0m \u001b[0;34m=\u001b[0m \u001b[0mself\u001b[0m\u001b[0;34m.\u001b[0m\u001b[0mfun\u001b[0m\u001b[0;34m(\u001b[0m\u001b[0mself\u001b[0m\u001b[0;34m.\u001b[0m\u001b[0mt\u001b[0m\u001b[0;34m,\u001b[0m \u001b[0mself\u001b[0m\u001b[0;34m.\u001b[0m\u001b[0my\u001b[0m\u001b[0;34m)\u001b[0m\u001b[0;34m\u001b[0m\u001b[0;34m\u001b[0m\u001b[0m\n\u001b[0m\u001b[1;32m     95\u001b[0m         \u001b[0;32mif\u001b[0m \u001b[0mfirst_step\u001b[0m \u001b[0;32mis\u001b[0m \u001b[0;32mNone\u001b[0m\u001b[0;34m:\u001b[0m\u001b[0;34m\u001b[0m\u001b[0;34m\u001b[0m\u001b[0m\n\u001b[1;32m     96\u001b[0m             self.h_abs = select_initial_step(\n",
            "\u001b[0;32m/usr/local/lib/python3.10/dist-packages/scipy/integrate/_ivp/base.py\u001b[0m in \u001b[0;36mfun\u001b[0;34m(t, y)\u001b[0m\n\u001b[1;32m    136\u001b[0m         \u001b[0;32mdef\u001b[0m \u001b[0mfun\u001b[0m\u001b[0;34m(\u001b[0m\u001b[0mt\u001b[0m\u001b[0;34m,\u001b[0m \u001b[0my\u001b[0m\u001b[0;34m)\u001b[0m\u001b[0;34m:\u001b[0m\u001b[0;34m\u001b[0m\u001b[0;34m\u001b[0m\u001b[0m\n\u001b[1;32m    137\u001b[0m             \u001b[0mself\u001b[0m\u001b[0;34m.\u001b[0m\u001b[0mnfev\u001b[0m \u001b[0;34m+=\u001b[0m \u001b[0;36m1\u001b[0m\u001b[0;34m\u001b[0m\u001b[0;34m\u001b[0m\u001b[0m\n\u001b[0;32m--> 138\u001b[0;31m             \u001b[0;32mreturn\u001b[0m \u001b[0mself\u001b[0m\u001b[0;34m.\u001b[0m\u001b[0mfun_single\u001b[0m\u001b[0;34m(\u001b[0m\u001b[0mt\u001b[0m\u001b[0;34m,\u001b[0m \u001b[0my\u001b[0m\u001b[0;34m)\u001b[0m\u001b[0;34m\u001b[0m\u001b[0;34m\u001b[0m\u001b[0m\n\u001b[0m\u001b[1;32m    139\u001b[0m \u001b[0;34m\u001b[0m\u001b[0m\n\u001b[1;32m    140\u001b[0m         \u001b[0mself\u001b[0m\u001b[0;34m.\u001b[0m\u001b[0mfun\u001b[0m \u001b[0;34m=\u001b[0m \u001b[0mfun\u001b[0m\u001b[0;34m\u001b[0m\u001b[0;34m\u001b[0m\u001b[0m\n",
            "\u001b[0;32m/usr/local/lib/python3.10/dist-packages/scipy/integrate/_ivp/base.py\u001b[0m in \u001b[0;36mfun_wrapped\u001b[0;34m(t, y)\u001b[0m\n\u001b[1;32m     18\u001b[0m \u001b[0;34m\u001b[0m\u001b[0m\n\u001b[1;32m     19\u001b[0m     \u001b[0;32mdef\u001b[0m \u001b[0mfun_wrapped\u001b[0m\u001b[0;34m(\u001b[0m\u001b[0mt\u001b[0m\u001b[0;34m,\u001b[0m \u001b[0my\u001b[0m\u001b[0;34m)\u001b[0m\u001b[0;34m:\u001b[0m\u001b[0;34m\u001b[0m\u001b[0;34m\u001b[0m\u001b[0m\n\u001b[0;32m---> 20\u001b[0;31m         \u001b[0;32mreturn\u001b[0m \u001b[0mnp\u001b[0m\u001b[0;34m.\u001b[0m\u001b[0masarray\u001b[0m\u001b[0;34m(\u001b[0m\u001b[0mfun\u001b[0m\u001b[0;34m(\u001b[0m\u001b[0mt\u001b[0m\u001b[0;34m,\u001b[0m \u001b[0my\u001b[0m\u001b[0;34m)\u001b[0m\u001b[0;34m,\u001b[0m \u001b[0mdtype\u001b[0m\u001b[0;34m=\u001b[0m\u001b[0mdtype\u001b[0m\u001b[0;34m)\u001b[0m\u001b[0;34m\u001b[0m\u001b[0;34m\u001b[0m\u001b[0m\n\u001b[0m\u001b[1;32m     21\u001b[0m \u001b[0;34m\u001b[0m\u001b[0m\n\u001b[1;32m     22\u001b[0m     \u001b[0;32mreturn\u001b[0m \u001b[0mfun_wrapped\u001b[0m\u001b[0;34m,\u001b[0m \u001b[0my0\u001b[0m\u001b[0;34m\u001b[0m\u001b[0;34m\u001b[0m\u001b[0m\n",
            "\u001b[0;32m<ipython-input-17-294001e8f84f>\u001b[0m in \u001b[0;36mmembrane_voltageRHS\u001b[0;34m(t, y)\u001b[0m\n\u001b[1;32m     18\u001b[0m     \u001b[0;32mglobal\u001b[0m \u001b[0mInMask\u001b[0m\u001b[0;34m,\u001b[0m \u001b[0mVth\u001b[0m\u001b[0;34m\u001b[0m\u001b[0;34m\u001b[0m\u001b[0m\n\u001b[1;32m     19\u001b[0m \u001b[0;34m\u001b[0m\u001b[0m\n\u001b[0;32m---> 20\u001b[0;31m     \u001b[0;32mif\u001b[0m \u001b[0mt\u001b[0m \u001b[0;34m>=\u001b[0m \u001b[0mt_Switch\u001b[0m \u001b[0;32mand\u001b[0m \u001b[0mt\u001b[0m \u001b[0;34m<=\u001b[0m \u001b[0mtransit_End\u001b[0m\u001b[0;34m:\u001b[0m\u001b[0;34m\u001b[0m\u001b[0;34m\u001b[0m\u001b[0m\n\u001b[0m\u001b[1;32m     21\u001b[0m \u001b[0;34m\u001b[0m\u001b[0m\n\u001b[1;32m     22\u001b[0m         \u001b[0mInMask\u001b[0m \u001b[0;34m=\u001b[0m \u001b[0mupdate_Mask\u001b[0m\u001b[0;34m(\u001b[0m\u001b[0moldMask\u001b[0m\u001b[0;34m,\u001b[0m \u001b[0mnewMask\u001b[0m\u001b[0;34m,\u001b[0m \u001b[0mt\u001b[0m\u001b[0;34m,\u001b[0m \u001b[0mt_Switch\u001b[0m \u001b[0;34m+\u001b[0m \u001b[0moffset\u001b[0m\u001b[0;34m)\u001b[0m\u001b[0;34m\u001b[0m\u001b[0;34m\u001b[0m\u001b[0m\n",
            "\u001b[0;31mNameError\u001b[0m: name 't_Switch' is not defined"
          ]
        }
      ]
    },
    {
      "cell_type": "code",
      "source": [],
      "metadata": {
        "id": "pZTl5-wIP35w"
      },
      "execution_count": null,
      "outputs": []
    }
  ]
}