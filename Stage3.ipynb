{
  "nbformat": 4,
  "nbformat_minor": 0,
  "metadata": {
    "colab": {
      "provenance": [],
      "authorship_tag": "ABX9TyMw6rTTtPwMINPl4geO+Aiu",
      "include_colab_link": true
    },
    "kernelspec": {
      "name": "python3",
      "display_name": "Python 3"
    },
    "language_info": {
      "name": "python"
    }
  },
  "cells": [
    {
      "cell_type": "markdown",
      "metadata": {
        "id": "view-in-github",
        "colab_type": "text"
      },
      "source": [
        "<a href=\"https://colab.research.google.com/github/Banafshehkh/C.elegans-Control-Backbone/blob/main/Stage3.ipynb\" target=\"_parent\"><img src=\"https://colab.research.google.com/assets/colab-badge.svg\" alt=\"Open In Colab\"/></a>"
      ]
    },
    {
      "cell_type": "code",
      "execution_count": 1,
      "metadata": {
        "id": "bj0QwF6Ggv3m"
      },
      "outputs": [],
      "source": [
        "# Author: Banafsheh Khazali\n",
        "# Date: June 08, 2023"
      ]
    },
    {
      "cell_type": "markdown",
      "source": [
        "Systematically destroy the network"
      ],
      "metadata": {
        "id": "W2bYapN7hIh5"
      }
    },
    {
      "cell_type": "code",
      "source": [],
      "metadata": {
        "id": "AnCl4ohng49n"
      },
      "execution_count": null,
      "outputs": []
    }
  ]
}